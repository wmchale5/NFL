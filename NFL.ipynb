{
 "cells": [
  {
   "attachments": {},
   "cell_type": "markdown",
   "metadata": {},
   "source": [
    "# NFL Data Analysis\n",
    "An examination of data from 23,000 NFL running plays \n"
   ]
  },
  {
   "cell_type": "code",
   "execution_count": 204,
   "metadata": {},
   "outputs": [
    {
     "name": "stderr",
     "output_type": "stream",
     "text": [
      "/Users/wmchale/anaconda3/lib/python3.7/site-packages/IPython/core/interactiveshell.py:3020: DtypeWarning: Columns (47) have mixed types. Specify dtype option on import or set low_memory=False.\n",
      "  interactivity=interactivity, compiler=compiler, result=result)\n"
     ]
    }
   ],
   "source": [
    "import pandas as pd\n",
    "import numpy as np\n",
    "import seaborn as sns\n",
    "import matplotlib.pyplot as plt\n",
    "%matplotlib inline\n",
    "\n",
    "\n",
    "nfl = pd.read_csv('../nfl.csv')"
   ]
  },
  {
   "cell_type": "code",
   "execution_count": 205,
   "metadata": {},
   "outputs": [
    {
     "data": {
      "text/plain": [
       "(509762, 49)"
      ]
     },
     "execution_count": 205,
     "metadata": {},
     "output_type": "execute_result"
    }
   ],
   "source": [
    "nfl.shape"
   ]
  },
  {
   "cell_type": "code",
   "execution_count": 3,
   "metadata": {},
   "outputs": [
    {
     "data": {
      "text/html": [
       "<div>\n",
       "<style scoped>\n",
       "    .dataframe tbody tr th:only-of-type {\n",
       "        vertical-align: middle;\n",
       "    }\n",
       "\n",
       "    .dataframe tbody tr th {\n",
       "        vertical-align: top;\n",
       "    }\n",
       "\n",
       "    .dataframe thead th {\n",
       "        text-align: right;\n",
       "    }\n",
       "</style>\n",
       "<table border=\"1\" class=\"dataframe\">\n",
       "  <thead>\n",
       "    <tr style=\"text-align: right;\">\n",
       "      <th></th>\n",
       "      <th>GameId</th>\n",
       "      <th>PlayId</th>\n",
       "      <th>Team</th>\n",
       "      <th>X</th>\n",
       "      <th>Y</th>\n",
       "      <th>S</th>\n",
       "      <th>A</th>\n",
       "      <th>Dis</th>\n",
       "      <th>Orientation</th>\n",
       "      <th>Dir</th>\n",
       "      <th>...</th>\n",
       "      <th>Week</th>\n",
       "      <th>Stadium</th>\n",
       "      <th>Location</th>\n",
       "      <th>StadiumType</th>\n",
       "      <th>Turf</th>\n",
       "      <th>GameWeather</th>\n",
       "      <th>Temperature</th>\n",
       "      <th>Humidity</th>\n",
       "      <th>WindSpeed</th>\n",
       "      <th>WindDirection</th>\n",
       "    </tr>\n",
       "  </thead>\n",
       "  <tbody>\n",
       "    <tr>\n",
       "      <th>0</th>\n",
       "      <td>2017090700</td>\n",
       "      <td>2.017090e+13</td>\n",
       "      <td>away</td>\n",
       "      <td>73.91</td>\n",
       "      <td>34.84</td>\n",
       "      <td>1.69</td>\n",
       "      <td>1.13</td>\n",
       "      <td>0.40</td>\n",
       "      <td>81.99</td>\n",
       "      <td>177.18</td>\n",
       "      <td>...</td>\n",
       "      <td>1</td>\n",
       "      <td>Gillette Stadium</td>\n",
       "      <td>Foxborough, MA</td>\n",
       "      <td>Outdoor</td>\n",
       "      <td>Field Turf</td>\n",
       "      <td>Clear and warm</td>\n",
       "      <td>63.0</td>\n",
       "      <td>77.0</td>\n",
       "      <td>8</td>\n",
       "      <td>SW</td>\n",
       "    </tr>\n",
       "    <tr>\n",
       "      <th>1</th>\n",
       "      <td>2017090700</td>\n",
       "      <td>2.017090e+13</td>\n",
       "      <td>away</td>\n",
       "      <td>74.67</td>\n",
       "      <td>32.64</td>\n",
       "      <td>0.42</td>\n",
       "      <td>1.35</td>\n",
       "      <td>0.01</td>\n",
       "      <td>27.61</td>\n",
       "      <td>198.70</td>\n",
       "      <td>...</td>\n",
       "      <td>1</td>\n",
       "      <td>Gillette Stadium</td>\n",
       "      <td>Foxborough, MA</td>\n",
       "      <td>Outdoor</td>\n",
       "      <td>Field Turf</td>\n",
       "      <td>Clear and warm</td>\n",
       "      <td>63.0</td>\n",
       "      <td>77.0</td>\n",
       "      <td>8</td>\n",
       "      <td>SW</td>\n",
       "    </tr>\n",
       "    <tr>\n",
       "      <th>2</th>\n",
       "      <td>2017090700</td>\n",
       "      <td>2.017090e+13</td>\n",
       "      <td>away</td>\n",
       "      <td>74.00</td>\n",
       "      <td>33.20</td>\n",
       "      <td>1.22</td>\n",
       "      <td>0.59</td>\n",
       "      <td>0.31</td>\n",
       "      <td>3.01</td>\n",
       "      <td>202.73</td>\n",
       "      <td>...</td>\n",
       "      <td>1</td>\n",
       "      <td>Gillette Stadium</td>\n",
       "      <td>Foxborough, MA</td>\n",
       "      <td>Outdoor</td>\n",
       "      <td>Field Turf</td>\n",
       "      <td>Clear and warm</td>\n",
       "      <td>63.0</td>\n",
       "      <td>77.0</td>\n",
       "      <td>8</td>\n",
       "      <td>SW</td>\n",
       "    </tr>\n",
       "    <tr>\n",
       "      <th>3</th>\n",
       "      <td>2017090700</td>\n",
       "      <td>2.017090e+13</td>\n",
       "      <td>away</td>\n",
       "      <td>71.46</td>\n",
       "      <td>27.70</td>\n",
       "      <td>0.42</td>\n",
       "      <td>0.54</td>\n",
       "      <td>0.02</td>\n",
       "      <td>359.77</td>\n",
       "      <td>105.64</td>\n",
       "      <td>...</td>\n",
       "      <td>1</td>\n",
       "      <td>Gillette Stadium</td>\n",
       "      <td>Foxborough, MA</td>\n",
       "      <td>Outdoor</td>\n",
       "      <td>Field Turf</td>\n",
       "      <td>Clear and warm</td>\n",
       "      <td>63.0</td>\n",
       "      <td>77.0</td>\n",
       "      <td>8</td>\n",
       "      <td>SW</td>\n",
       "    </tr>\n",
       "    <tr>\n",
       "      <th>4</th>\n",
       "      <td>2017090700</td>\n",
       "      <td>2.017090e+13</td>\n",
       "      <td>away</td>\n",
       "      <td>69.32</td>\n",
       "      <td>35.42</td>\n",
       "      <td>1.82</td>\n",
       "      <td>2.43</td>\n",
       "      <td>0.16</td>\n",
       "      <td>12.63</td>\n",
       "      <td>164.31</td>\n",
       "      <td>...</td>\n",
       "      <td>1</td>\n",
       "      <td>Gillette Stadium</td>\n",
       "      <td>Foxborough, MA</td>\n",
       "      <td>Outdoor</td>\n",
       "      <td>Field Turf</td>\n",
       "      <td>Clear and warm</td>\n",
       "      <td>63.0</td>\n",
       "      <td>77.0</td>\n",
       "      <td>8</td>\n",
       "      <td>SW</td>\n",
       "    </tr>\n",
       "  </tbody>\n",
       "</table>\n",
       "<p>5 rows × 49 columns</p>\n",
       "</div>"
      ],
      "text/plain": [
       "       GameId        PlayId  Team      X      Y     S     A   Dis  \\\n",
       "0  2017090700  2.017090e+13  away  73.91  34.84  1.69  1.13  0.40   \n",
       "1  2017090700  2.017090e+13  away  74.67  32.64  0.42  1.35  0.01   \n",
       "2  2017090700  2.017090e+13  away  74.00  33.20  1.22  0.59  0.31   \n",
       "3  2017090700  2.017090e+13  away  71.46  27.70  0.42  0.54  0.02   \n",
       "4  2017090700  2.017090e+13  away  69.32  35.42  1.82  2.43  0.16   \n",
       "\n",
       "   Orientation     Dir      ...        Week           Stadium        Location  \\\n",
       "0        81.99  177.18      ...           1  Gillette Stadium  Foxborough, MA   \n",
       "1        27.61  198.70      ...           1  Gillette Stadium  Foxborough, MA   \n",
       "2         3.01  202.73      ...           1  Gillette Stadium  Foxborough, MA   \n",
       "3       359.77  105.64      ...           1  Gillette Stadium  Foxborough, MA   \n",
       "4        12.63  164.31      ...           1  Gillette Stadium  Foxborough, MA   \n",
       "\n",
       "   StadiumType        Turf     GameWeather Temperature Humidity  WindSpeed  \\\n",
       "0      Outdoor  Field Turf  Clear and warm        63.0     77.0          8   \n",
       "1      Outdoor  Field Turf  Clear and warm        63.0     77.0          8   \n",
       "2      Outdoor  Field Turf  Clear and warm        63.0     77.0          8   \n",
       "3      Outdoor  Field Turf  Clear and warm        63.0     77.0          8   \n",
       "4      Outdoor  Field Turf  Clear and warm        63.0     77.0          8   \n",
       "\n",
       "   WindDirection  \n",
       "0             SW  \n",
       "1             SW  \n",
       "2             SW  \n",
       "3             SW  \n",
       "4             SW  \n",
       "\n",
       "[5 rows x 49 columns]"
      ]
     },
     "execution_count": 3,
     "metadata": {},
     "output_type": "execute_result"
    }
   ],
   "source": [
    "nfl.head()"
   ]
  },
  {
   "cell_type": "markdown",
   "metadata": {},
   "source": [
    "# Initial data cleaning and EDA. \n",
    "The data originally contained a row for each player on the field for each play. I created a new dataframe just with the information on the player carrying the ball. "
   ]
  },
  {
   "cell_type": "code",
   "execution_count": 4,
   "metadata": {},
   "outputs": [],
   "source": [
    "nfl['test'] = nfl['NflId'] - nfl['NflIdRusher']"
   ]
  },
  {
   "cell_type": "code",
   "execution_count": 5,
   "metadata": {},
   "outputs": [
    {
     "data": {
      "text/plain": [
       "Index(['GameId', 'PlayId', 'Team', 'X', 'Y', 'S', 'A', 'Dis', 'Orientation',\n",
       "       'Dir', 'NflId', 'DisplayName', 'JerseyNumber', 'Season', 'YardLine',\n",
       "       'Quarter', 'GameClock', 'PossessionTeam', 'Down', 'Distance',\n",
       "       'FieldPosition', 'HomeScoreBeforePlay', 'VisitorScoreBeforePlay',\n",
       "       'NflIdRusher', 'OffenseFormation', 'OffensePersonnel',\n",
       "       'DefendersInTheBox', 'DefensePersonnel', 'PlayDirection', 'TimeHandoff',\n",
       "       'TimeSnap', 'Yards', 'PlayerHeight', 'PlayerWeight', 'PlayerBirthDate',\n",
       "       'PlayerCollegeName', 'Position', 'HomeTeamAbbr', 'VisitorTeamAbbr',\n",
       "       'Week', 'Stadium', 'Location', 'StadiumType', 'Turf', 'GameWeather',\n",
       "       'Temperature', 'Humidity', 'WindSpeed', 'WindDirection', 'test'],\n",
       "      dtype='object')"
      ]
     },
     "execution_count": 5,
     "metadata": {},
     "output_type": "execute_result"
    }
   ],
   "source": [
    "nfl.columns"
   ]
  },
  {
   "cell_type": "code",
   "execution_count": 6,
   "metadata": {},
   "outputs": [
    {
     "data": {
      "text/plain": [
       "GameId                      int64\n",
       "PlayId                    float64\n",
       "Team                       object\n",
       "X                         float64\n",
       "Y                         float64\n",
       "S                         float64\n",
       "A                         float64\n",
       "Dis                       float64\n",
       "Orientation               float64\n",
       "Dir                       float64\n",
       "NflId                       int64\n",
       "DisplayName                object\n",
       "JerseyNumber                int64\n",
       "Season                      int64\n",
       "YardLine                    int64\n",
       "Quarter                     int64\n",
       "GameClock                  object\n",
       "PossessionTeam             object\n",
       "Down                        int64\n",
       "Distance                    int64\n",
       "FieldPosition              object\n",
       "HomeScoreBeforePlay         int64\n",
       "VisitorScoreBeforePlay      int64\n",
       "NflIdRusher                 int64\n",
       "OffenseFormation           object\n",
       "OffensePersonnel           object\n",
       "DefendersInTheBox         float64\n",
       "DefensePersonnel           object\n",
       "PlayDirection              object\n",
       "TimeHandoff                object\n",
       "TimeSnap                   object\n",
       "Yards                       int64\n",
       "PlayerHeight               object\n",
       "PlayerWeight                int64\n",
       "PlayerBirthDate            object\n",
       "PlayerCollegeName          object\n",
       "Position                   object\n",
       "HomeTeamAbbr               object\n",
       "VisitorTeamAbbr            object\n",
       "Week                        int64\n",
       "Stadium                    object\n",
       "Location                   object\n",
       "StadiumType                object\n",
       "Turf                       object\n",
       "GameWeather                object\n",
       "Temperature               float64\n",
       "Humidity                  float64\n",
       "WindSpeed                  object\n",
       "WindDirection              object\n",
       "test                        int64\n",
       "dtype: object"
      ]
     },
     "execution_count": 6,
     "metadata": {},
     "output_type": "execute_result"
    }
   ],
   "source": [
    "nfl.dtypes"
   ]
  },
  {
   "cell_type": "code",
   "execution_count": 7,
   "metadata": {},
   "outputs": [],
   "source": [
    "nfl = nfl[nfl['test'] == 0]"
   ]
  },
  {
   "cell_type": "code",
   "execution_count": 8,
   "metadata": {},
   "outputs": [
    {
     "data": {
      "text/html": [
       "<div>\n",
       "<style scoped>\n",
       "    .dataframe tbody tr th:only-of-type {\n",
       "        vertical-align: middle;\n",
       "    }\n",
       "\n",
       "    .dataframe tbody tr th {\n",
       "        vertical-align: top;\n",
       "    }\n",
       "\n",
       "    .dataframe thead th {\n",
       "        text-align: right;\n",
       "    }\n",
       "</style>\n",
       "<table border=\"1\" class=\"dataframe\">\n",
       "  <thead>\n",
       "    <tr style=\"text-align: right;\">\n",
       "      <th></th>\n",
       "      <th>GameId</th>\n",
       "      <th>PlayId</th>\n",
       "      <th>Team</th>\n",
       "      <th>X</th>\n",
       "      <th>Y</th>\n",
       "      <th>S</th>\n",
       "      <th>A</th>\n",
       "      <th>Dis</th>\n",
       "      <th>Orientation</th>\n",
       "      <th>Dir</th>\n",
       "      <th>...</th>\n",
       "      <th>Stadium</th>\n",
       "      <th>Location</th>\n",
       "      <th>StadiumType</th>\n",
       "      <th>Turf</th>\n",
       "      <th>GameWeather</th>\n",
       "      <th>Temperature</th>\n",
       "      <th>Humidity</th>\n",
       "      <th>WindSpeed</th>\n",
       "      <th>WindDirection</th>\n",
       "      <th>test</th>\n",
       "    </tr>\n",
       "  </thead>\n",
       "  <tbody>\n",
       "    <tr>\n",
       "      <th>18</th>\n",
       "      <td>2017090700</td>\n",
       "      <td>2.017090e+13</td>\n",
       "      <td>home</td>\n",
       "      <td>78.75</td>\n",
       "      <td>30.53</td>\n",
       "      <td>3.63</td>\n",
       "      <td>3.35</td>\n",
       "      <td>0.38</td>\n",
       "      <td>161.98</td>\n",
       "      <td>245.74</td>\n",
       "      <td>...</td>\n",
       "      <td>Gillette Stadium</td>\n",
       "      <td>Foxborough, MA</td>\n",
       "      <td>Outdoor</td>\n",
       "      <td>Field Turf</td>\n",
       "      <td>Clear and warm</td>\n",
       "      <td>63.0</td>\n",
       "      <td>77.0</td>\n",
       "      <td>8</td>\n",
       "      <td>SW</td>\n",
       "      <td>0</td>\n",
       "    </tr>\n",
       "    <tr>\n",
       "      <th>40</th>\n",
       "      <td>2017090700</td>\n",
       "      <td>2.017090e+13</td>\n",
       "      <td>home</td>\n",
       "      <td>71.07</td>\n",
       "      <td>27.16</td>\n",
       "      <td>3.06</td>\n",
       "      <td>2.41</td>\n",
       "      <td>0.34</td>\n",
       "      <td>210.70</td>\n",
       "      <td>312.20</td>\n",
       "      <td>...</td>\n",
       "      <td>Gillette Stadium</td>\n",
       "      <td>Foxborough, MA</td>\n",
       "      <td>Outdoor</td>\n",
       "      <td>Field Turf</td>\n",
       "      <td>Clear and warm</td>\n",
       "      <td>63.0</td>\n",
       "      <td>77.0</td>\n",
       "      <td>8</td>\n",
       "      <td>SW</td>\n",
       "      <td>0</td>\n",
       "    </tr>\n",
       "    <tr>\n",
       "      <th>62</th>\n",
       "      <td>2017090700</td>\n",
       "      <td>2.017090e+13</td>\n",
       "      <td>home</td>\n",
       "      <td>48.66</td>\n",
       "      <td>19.11</td>\n",
       "      <td>5.77</td>\n",
       "      <td>2.42</td>\n",
       "      <td>0.60</td>\n",
       "      <td>140.82</td>\n",
       "      <td>221.96</td>\n",
       "      <td>...</td>\n",
       "      <td>Gillette Stadium</td>\n",
       "      <td>Foxborough, MA</td>\n",
       "      <td>Outdoor</td>\n",
       "      <td>Field Turf</td>\n",
       "      <td>Clear and warm</td>\n",
       "      <td>63.0</td>\n",
       "      <td>77.0</td>\n",
       "      <td>8</td>\n",
       "      <td>SW</td>\n",
       "      <td>0</td>\n",
       "    </tr>\n",
       "    <tr>\n",
       "      <th>84</th>\n",
       "      <td>2017090700</td>\n",
       "      <td>2.017090e+13</td>\n",
       "      <td>home</td>\n",
       "      <td>15.53</td>\n",
       "      <td>25.36</td>\n",
       "      <td>4.45</td>\n",
       "      <td>3.20</td>\n",
       "      <td>0.46</td>\n",
       "      <td>186.22</td>\n",
       "      <td>275.44</td>\n",
       "      <td>...</td>\n",
       "      <td>Gillette Stadium</td>\n",
       "      <td>Foxborough, MA</td>\n",
       "      <td>Outdoor</td>\n",
       "      <td>Field Turf</td>\n",
       "      <td>Clear and warm</td>\n",
       "      <td>63.0</td>\n",
       "      <td>77.0</td>\n",
       "      <td>8</td>\n",
       "      <td>SW</td>\n",
       "      <td>0</td>\n",
       "    </tr>\n",
       "    <tr>\n",
       "      <th>98</th>\n",
       "      <td>2017090700</td>\n",
       "      <td>2.017090e+13</td>\n",
       "      <td>away</td>\n",
       "      <td>29.99</td>\n",
       "      <td>27.12</td>\n",
       "      <td>3.90</td>\n",
       "      <td>2.53</td>\n",
       "      <td>0.44</td>\n",
       "      <td>34.27</td>\n",
       "      <td>157.92</td>\n",
       "      <td>...</td>\n",
       "      <td>Gillette Stadium</td>\n",
       "      <td>Foxborough, MA</td>\n",
       "      <td>Outdoor</td>\n",
       "      <td>Field Turf</td>\n",
       "      <td>Clear and warm</td>\n",
       "      <td>63.0</td>\n",
       "      <td>77.0</td>\n",
       "      <td>8</td>\n",
       "      <td>SW</td>\n",
       "      <td>0</td>\n",
       "    </tr>\n",
       "  </tbody>\n",
       "</table>\n",
       "<p>5 rows × 50 columns</p>\n",
       "</div>"
      ],
      "text/plain": [
       "        GameId        PlayId  Team      X      Y     S     A   Dis  \\\n",
       "18  2017090700  2.017090e+13  home  78.75  30.53  3.63  3.35  0.38   \n",
       "40  2017090700  2.017090e+13  home  71.07  27.16  3.06  2.41  0.34   \n",
       "62  2017090700  2.017090e+13  home  48.66  19.11  5.77  2.42  0.60   \n",
       "84  2017090700  2.017090e+13  home  15.53  25.36  4.45  3.20  0.46   \n",
       "98  2017090700  2.017090e+13  away  29.99  27.12  3.90  2.53  0.44   \n",
       "\n",
       "    Orientation     Dir  ...            Stadium        Location  StadiumType  \\\n",
       "18       161.98  245.74  ...   Gillette Stadium  Foxborough, MA      Outdoor   \n",
       "40       210.70  312.20  ...   Gillette Stadium  Foxborough, MA      Outdoor   \n",
       "62       140.82  221.96  ...   Gillette Stadium  Foxborough, MA      Outdoor   \n",
       "84       186.22  275.44  ...   Gillette Stadium  Foxborough, MA      Outdoor   \n",
       "98        34.27  157.92  ...   Gillette Stadium  Foxborough, MA      Outdoor   \n",
       "\n",
       "          Turf     GameWeather  Temperature Humidity WindSpeed  WindDirection  \\\n",
       "18  Field Turf  Clear and warm         63.0     77.0         8             SW   \n",
       "40  Field Turf  Clear and warm         63.0     77.0         8             SW   \n",
       "62  Field Turf  Clear and warm         63.0     77.0         8             SW   \n",
       "84  Field Turf  Clear and warm         63.0     77.0         8             SW   \n",
       "98  Field Turf  Clear and warm         63.0     77.0         8             SW   \n",
       "\n",
       "    test  \n",
       "18     0  \n",
       "40     0  \n",
       "62     0  \n",
       "84     0  \n",
       "98     0  \n",
       "\n",
       "[5 rows x 50 columns]"
      ]
     },
     "execution_count": 8,
     "metadata": {},
     "output_type": "execute_result"
    }
   ],
   "source": [
    "nfl.head()"
   ]
  },
  {
   "cell_type": "code",
   "execution_count": 9,
   "metadata": {},
   "outputs": [
    {
     "data": {
      "text/plain": [
       "(23171, 50)"
      ]
     },
     "execution_count": 9,
     "metadata": {},
     "output_type": "execute_result"
    }
   ],
   "source": [
    "nfl.shape"
   ]
  },
  {
   "cell_type": "code",
   "execution_count": 11,
   "metadata": {},
   "outputs": [
    {
     "data": {
      "text/plain": [
       "Index(['GameId', 'PlayId', 'Team', 'X', 'Y', 'S', 'A', 'Dis', 'Orientation',\n",
       "       'Dir', 'NflId', 'DisplayName', 'JerseyNumber', 'Season', 'YardLine',\n",
       "       'Quarter', 'GameClock', 'PossessionTeam', 'Down', 'Distance',\n",
       "       'FieldPosition', 'HomeScoreBeforePlay', 'VisitorScoreBeforePlay',\n",
       "       'NflIdRusher', 'OffenseFormation', 'OffensePersonnel',\n",
       "       'DefendersInTheBox', 'DefensePersonnel', 'PlayDirection', 'TimeHandoff',\n",
       "       'TimeSnap', 'Yards', 'PlayerHeight', 'PlayerWeight', 'PlayerBirthDate',\n",
       "       'PlayerCollegeName', 'Position', 'HomeTeamAbbr', 'VisitorTeamAbbr',\n",
       "       'Week', 'Stadium', 'Location', 'StadiumType', 'Turf', 'GameWeather',\n",
       "       'Temperature', 'Humidity', 'WindSpeed', 'WindDirection', 'test'],\n",
       "      dtype='object')"
      ]
     },
     "execution_count": 11,
     "metadata": {},
     "output_type": "execute_result"
    }
   ],
   "source": [
    "nfl.columns"
   ]
  },
  {
   "cell_type": "markdown",
   "metadata": {},
   "source": [
    "Creating a column to show the score differential"
   ]
  },
  {
   "cell_type": "code",
   "execution_count": 12,
   "metadata": {},
   "outputs": [],
   "source": [
    "nfl['home_team_lead'] = nfl['HomeScoreBeforePlay'] - nfl['VisitorScoreBeforePlay']"
   ]
  },
  {
   "cell_type": "code",
   "execution_count": 13,
   "metadata": {},
   "outputs": [
    {
     "data": {
      "text/html": [
       "<div>\n",
       "<style scoped>\n",
       "    .dataframe tbody tr th:only-of-type {\n",
       "        vertical-align: middle;\n",
       "    }\n",
       "\n",
       "    .dataframe tbody tr th {\n",
       "        vertical-align: top;\n",
       "    }\n",
       "\n",
       "    .dataframe thead th {\n",
       "        text-align: right;\n",
       "    }\n",
       "</style>\n",
       "<table border=\"1\" class=\"dataframe\">\n",
       "  <thead>\n",
       "    <tr style=\"text-align: right;\">\n",
       "      <th></th>\n",
       "      <th>GameId</th>\n",
       "      <th>PlayId</th>\n",
       "      <th>Team</th>\n",
       "      <th>X</th>\n",
       "      <th>Y</th>\n",
       "      <th>S</th>\n",
       "      <th>A</th>\n",
       "      <th>Dis</th>\n",
       "      <th>Orientation</th>\n",
       "      <th>Dir</th>\n",
       "      <th>...</th>\n",
       "      <th>Location</th>\n",
       "      <th>StadiumType</th>\n",
       "      <th>Turf</th>\n",
       "      <th>GameWeather</th>\n",
       "      <th>Temperature</th>\n",
       "      <th>Humidity</th>\n",
       "      <th>WindSpeed</th>\n",
       "      <th>WindDirection</th>\n",
       "      <th>test</th>\n",
       "      <th>home_team_lead</th>\n",
       "    </tr>\n",
       "  </thead>\n",
       "  <tbody>\n",
       "    <tr>\n",
       "      <th>18</th>\n",
       "      <td>2017090700</td>\n",
       "      <td>2.017090e+13</td>\n",
       "      <td>home</td>\n",
       "      <td>78.75</td>\n",
       "      <td>30.53</td>\n",
       "      <td>3.63</td>\n",
       "      <td>3.35</td>\n",
       "      <td>0.38</td>\n",
       "      <td>161.98</td>\n",
       "      <td>245.74</td>\n",
       "      <td>...</td>\n",
       "      <td>Foxborough, MA</td>\n",
       "      <td>Outdoor</td>\n",
       "      <td>Field Turf</td>\n",
       "      <td>Clear and warm</td>\n",
       "      <td>63.0</td>\n",
       "      <td>77.0</td>\n",
       "      <td>8</td>\n",
       "      <td>SW</td>\n",
       "      <td>0</td>\n",
       "      <td>0</td>\n",
       "    </tr>\n",
       "    <tr>\n",
       "      <th>40</th>\n",
       "      <td>2017090700</td>\n",
       "      <td>2.017090e+13</td>\n",
       "      <td>home</td>\n",
       "      <td>71.07</td>\n",
       "      <td>27.16</td>\n",
       "      <td>3.06</td>\n",
       "      <td>2.41</td>\n",
       "      <td>0.34</td>\n",
       "      <td>210.70</td>\n",
       "      <td>312.20</td>\n",
       "      <td>...</td>\n",
       "      <td>Foxborough, MA</td>\n",
       "      <td>Outdoor</td>\n",
       "      <td>Field Turf</td>\n",
       "      <td>Clear and warm</td>\n",
       "      <td>63.0</td>\n",
       "      <td>77.0</td>\n",
       "      <td>8</td>\n",
       "      <td>SW</td>\n",
       "      <td>0</td>\n",
       "      <td>0</td>\n",
       "    </tr>\n",
       "    <tr>\n",
       "      <th>62</th>\n",
       "      <td>2017090700</td>\n",
       "      <td>2.017090e+13</td>\n",
       "      <td>home</td>\n",
       "      <td>48.66</td>\n",
       "      <td>19.11</td>\n",
       "      <td>5.77</td>\n",
       "      <td>2.42</td>\n",
       "      <td>0.60</td>\n",
       "      <td>140.82</td>\n",
       "      <td>221.96</td>\n",
       "      <td>...</td>\n",
       "      <td>Foxborough, MA</td>\n",
       "      <td>Outdoor</td>\n",
       "      <td>Field Turf</td>\n",
       "      <td>Clear and warm</td>\n",
       "      <td>63.0</td>\n",
       "      <td>77.0</td>\n",
       "      <td>8</td>\n",
       "      <td>SW</td>\n",
       "      <td>0</td>\n",
       "      <td>0</td>\n",
       "    </tr>\n",
       "    <tr>\n",
       "      <th>84</th>\n",
       "      <td>2017090700</td>\n",
       "      <td>2.017090e+13</td>\n",
       "      <td>home</td>\n",
       "      <td>15.53</td>\n",
       "      <td>25.36</td>\n",
       "      <td>4.45</td>\n",
       "      <td>3.20</td>\n",
       "      <td>0.46</td>\n",
       "      <td>186.22</td>\n",
       "      <td>275.44</td>\n",
       "      <td>...</td>\n",
       "      <td>Foxborough, MA</td>\n",
       "      <td>Outdoor</td>\n",
       "      <td>Field Turf</td>\n",
       "      <td>Clear and warm</td>\n",
       "      <td>63.0</td>\n",
       "      <td>77.0</td>\n",
       "      <td>8</td>\n",
       "      <td>SW</td>\n",
       "      <td>0</td>\n",
       "      <td>0</td>\n",
       "    </tr>\n",
       "    <tr>\n",
       "      <th>98</th>\n",
       "      <td>2017090700</td>\n",
       "      <td>2.017090e+13</td>\n",
       "      <td>away</td>\n",
       "      <td>29.99</td>\n",
       "      <td>27.12</td>\n",
       "      <td>3.90</td>\n",
       "      <td>2.53</td>\n",
       "      <td>0.44</td>\n",
       "      <td>34.27</td>\n",
       "      <td>157.92</td>\n",
       "      <td>...</td>\n",
       "      <td>Foxborough, MA</td>\n",
       "      <td>Outdoor</td>\n",
       "      <td>Field Turf</td>\n",
       "      <td>Clear and warm</td>\n",
       "      <td>63.0</td>\n",
       "      <td>77.0</td>\n",
       "      <td>8</td>\n",
       "      <td>SW</td>\n",
       "      <td>0</td>\n",
       "      <td>7</td>\n",
       "    </tr>\n",
       "  </tbody>\n",
       "</table>\n",
       "<p>5 rows × 51 columns</p>\n",
       "</div>"
      ],
      "text/plain": [
       "        GameId        PlayId  Team      X      Y     S     A   Dis  \\\n",
       "18  2017090700  2.017090e+13  home  78.75  30.53  3.63  3.35  0.38   \n",
       "40  2017090700  2.017090e+13  home  71.07  27.16  3.06  2.41  0.34   \n",
       "62  2017090700  2.017090e+13  home  48.66  19.11  5.77  2.42  0.60   \n",
       "84  2017090700  2.017090e+13  home  15.53  25.36  4.45  3.20  0.46   \n",
       "98  2017090700  2.017090e+13  away  29.99  27.12  3.90  2.53  0.44   \n",
       "\n",
       "    Orientation     Dir       ...              Location StadiumType  \\\n",
       "18       161.98  245.74       ...        Foxborough, MA     Outdoor   \n",
       "40       210.70  312.20       ...        Foxborough, MA     Outdoor   \n",
       "62       140.82  221.96       ...        Foxborough, MA     Outdoor   \n",
       "84       186.22  275.44       ...        Foxborough, MA     Outdoor   \n",
       "98        34.27  157.92       ...        Foxborough, MA     Outdoor   \n",
       "\n",
       "          Turf     GameWeather  Temperature  Humidity WindSpeed WindDirection  \\\n",
       "18  Field Turf  Clear and warm         63.0      77.0         8            SW   \n",
       "40  Field Turf  Clear and warm         63.0      77.0         8            SW   \n",
       "62  Field Turf  Clear and warm         63.0      77.0         8            SW   \n",
       "84  Field Turf  Clear and warm         63.0      77.0         8            SW   \n",
       "98  Field Turf  Clear and warm         63.0      77.0         8            SW   \n",
       "\n",
       "    test  home_team_lead  \n",
       "18     0               0  \n",
       "40     0               0  \n",
       "62     0               0  \n",
       "84     0               0  \n",
       "98     0               7  \n",
       "\n",
       "[5 rows x 51 columns]"
      ]
     },
     "execution_count": 13,
     "metadata": {},
     "output_type": "execute_result"
    }
   ],
   "source": [
    "nfl.head()"
   ]
  },
  {
   "cell_type": "markdown",
   "metadata": {},
   "source": [
    "Dropping a number of columns which I deemed to have little relevance to the analysis and model "
   ]
  },
  {
   "cell_type": "code",
   "execution_count": 14,
   "metadata": {},
   "outputs": [],
   "source": [
    "columns_to_drop = ['GameId', 'PlayId', 'PlayerBirthDate', 'PlayerCollegeName', 'test', 'FieldPosition',\n",
    "                   'X', 'Y', 'StadiumType', 'WindDirection', 'WindSpeed','GameWeather',\n",
    "                  'Orientation', 'Dir', 'TimeHandoff', 'TimeSnap']"
   ]
  },
  {
   "cell_type": "code",
   "execution_count": 15,
   "metadata": {},
   "outputs": [],
   "source": [
    "nfl = nfl.drop(columns_to_drop, axis=1)"
   ]
  },
  {
   "cell_type": "code",
   "execution_count": 16,
   "metadata": {},
   "outputs": [
    {
     "data": {
      "text/plain": [
       "Index(['Team', 'S', 'A', 'Dis', 'NflId', 'DisplayName', 'JerseyNumber',\n",
       "       'Season', 'YardLine', 'Quarter', 'GameClock', 'PossessionTeam', 'Down',\n",
       "       'Distance', 'HomeScoreBeforePlay', 'VisitorScoreBeforePlay',\n",
       "       'NflIdRusher', 'OffenseFormation', 'OffensePersonnel',\n",
       "       'DefendersInTheBox', 'DefensePersonnel', 'PlayDirection', 'Yards',\n",
       "       'PlayerHeight', 'PlayerWeight', 'Position', 'HomeTeamAbbr',\n",
       "       'VisitorTeamAbbr', 'Week', 'Stadium', 'Location', 'Turf', 'Temperature',\n",
       "       'Humidity', 'home_team_lead'],\n",
       "      dtype='object')"
      ]
     },
     "execution_count": 16,
     "metadata": {},
     "output_type": "execute_result"
    }
   ],
   "source": [
    "nfl.columns"
   ]
  },
  {
   "cell_type": "markdown",
   "metadata": {},
   "source": [
    "Offense Formation refers how the offensive is aligned before the snap of the ball. "
   ]
  },
  {
   "cell_type": "code",
   "execution_count": 17,
   "metadata": {},
   "outputs": [
    {
     "data": {
      "text/plain": [
       "SINGLEBACK    10247\n",
       "SHOTGUN        6862\n",
       "I_FORM         4821\n",
       "PISTOL          610\n",
       "JUMBO           521\n",
       "WILDCAT          81\n",
       "EMPTY            23\n",
       "ACE               1\n",
       "Name: OffenseFormation, dtype: int64"
      ]
     },
     "execution_count": 17,
     "metadata": {},
     "output_type": "execute_result"
    }
   ],
   "source": [
    "nfl.OffenseFormation.value_counts()"
   ]
  },
  {
   "cell_type": "code",
   "execution_count": 18,
   "metadata": {},
   "outputs": [
    {
     "data": {
      "text/plain": [
       "1 RB, 1 TE, 3 WR               10589\n",
       "1 RB, 2 TE, 2 WR                5186\n",
       "2 RB, 1 TE, 2 WR                2438\n",
       "1 RB, 3 TE, 1 WR                1423\n",
       "2 RB, 2 TE, 1 WR                1174\n",
       "6 OL, 1 RB, 2 TE, 1 WR           440\n",
       "6 OL, 1 RB, 1 TE, 2 WR           383\n",
       "6 OL, 2 RB, 1 TE, 1 WR           268\n",
       "6 OL, 2 RB, 2 TE, 0 WR           171\n",
       "2 RB, 0 TE, 3 WR                 157\n",
       "1 RB, 2 TE, 1 WR,1 DL            141\n",
       "6 OL, 1 RB, 0 TE, 3 WR            99\n",
       "1 RB, 0 TE, 4 WR                  85\n",
       "0 RB, 1 TE, 4 WR                  76\n",
       "2 QB, 1 RB, 1 TE, 2 WR            71\n",
       "2 RB, 3 TE, 0 WR                  64\n",
       "6 OL, 1 RB, 3 TE, 0 WR            55\n",
       "6 OL, 2 RB, 0 TE, 2 WR            48\n",
       "1 RB, 1 TE, 2 WR,1 DL             34\n",
       "7 OL, 1 RB, 0 TE, 2 WR            31\n",
       "3 RB, 1 TE, 1 WR                  26\n",
       "2 QB, 2 RB, 1 TE, 1 WR            25\n",
       "1 RB, 3 TE, 0 WR,1 DL             20\n",
       "6 OL, 1 RB, 2 TE, 0 WR,1 DL       16\n",
       "3 RB, 0 TE, 2 WR                  13\n",
       "2 QB, 1 RB, 2 TE, 1 WR            12\n",
       "6 OL, 1 RB, 2 TE, 0 WR,1 LB       11\n",
       "7 OL, 1 RB, 2 TE, 0 WR            11\n",
       "7 OL, 2 RB, 0 TE, 1 WR            10\n",
       "1 RB, 1 TE, 2 WR,1 DB             10\n",
       "1 RB, 2 TE, 1 WR,1 LB              9\n",
       "6 OL, 2 RB, 1 TE, 0 WR,1 DL        9\n",
       "6 OL, 1 RB, 1 TE, 1 WR,1 DL        7\n",
       "1 RB, 4 TE, 0 WR                   7\n",
       "2 QB, 1 RB, 0 TE, 3 WR             7\n",
       "3 RB, 2 TE, 0 WR                   5\n",
       "0 RB, 2 TE, 3 WR                   5\n",
       "1 RB, 3 TE, 0 WR,1 LB              5\n",
       "1 RB, 2 TE, 1 WR,1 DB              3\n",
       "0 RB, 3 TE, 2 WR                   3\n",
       "1 RB, 0 TE, 3 WR,1 DB              3\n",
       "1 RB, 1 TE, 2 WR,1 LB              2\n",
       "2 QB, 1 RB, 3 TE, 0 WR             2\n",
       "2 QB, 2 RB, 0 TE, 2 WR             2\n",
       "7 OL, 2 RB, 1 TE, 0 WR             2\n",
       "0 RB, 0 TE, 5 WR                   2\n",
       "2 RB, 2 TE, 0 WR,1 DL              2\n",
       "2 RB, 3 TE, 1 WR                   1\n",
       "2 QB, 3 RB, 1 TE, 0 WR             1\n",
       "6 OL, 3 RB, 0 TE, 1 WR             1\n",
       "2 RB, 1 TE, 1 WR,1 DB              1\n",
       "6 OL, 1 RB, 1 TE, 0 WR,2 DL        1\n",
       "1 RB, 3 TE, 0 WR,1 DB              1\n",
       "1 RB, 2 TE, 3 WR                   1\n",
       "2 QB, 2 RB, 2 TE, 0 WR             1\n",
       "6 OL, 0 RB, 2 TE, 2 WR             1\n",
       "Name: OffensePersonnel, dtype: int64"
      ]
     },
     "execution_count": 18,
     "metadata": {},
     "output_type": "execute_result"
    }
   ],
   "source": [
    "nfl.OffensePersonnel.value_counts()"
   ]
  },
  {
   "cell_type": "markdown",
   "metadata": {},
   "source": [
    "Offense Personel refers to the types of players that the offense has on the field. The original data includes a mix of different categories. I standardize the categories to a two digit number: the first digit refers to how many running backs on the field and the second number refers to how many tight ends are on the field"
   ]
  },
  {
   "cell_type": "code",
   "execution_count": 19,
   "metadata": {},
   "outputs": [],
   "source": [
    "off_pers = {'1 RB, 1 TE, 3 WR':'11', '1 RB, 2 TE, 2 WR': '12', '2 RB, 1 TE, 2 WR':'21', '1 RB, 3 TE, 1 WR':'13',\n",
    "           '2 RB, 2 TE, 1 WR':'22', '6 OL, 1 RB, 2 TE, 1 WR':'12', \n",
    "            '6 OL, 1 RB, 1 TE, 2 WR':'11', '6 OL, 2 RB, 1 TE, 1 WR':'21',\n",
    "          '6 OL, 2 RB, 2 TE, 0 WR':'22', '2 RB, 0 TE, 3 WR':'20', '1 RB, 2 TE, 1 WR,1 DL':'12', '3 RB, 0 TE, 2 WR':'30',\n",
    "            '1 RB, 0 TE, 4 WR':'10',\n",
    "            '0 RB, 1 TE, 4 WR':'01',\n",
    "            '2 QB, 1 RB, 1 TE, 2 WR':'11'\n",
    "           }\n",
    "\n",
    "\n",
    "nfl['OffensePersonnel'] = nfl['OffensePersonnel'].map(off_pers)"
   ]
  },
  {
   "cell_type": "code",
   "execution_count": 20,
   "metadata": {},
   "outputs": [
    {
     "data": {
      "text/plain": [
       "11    11043\n",
       "12     5767\n",
       "21     2706\n",
       "13     1423\n",
       "22     1345\n",
       "20      157\n",
       "10       85\n",
       "01       76\n",
       "30       13\n",
       "Name: OffensePersonnel, dtype: int64"
      ]
     },
     "execution_count": 20,
     "metadata": {},
     "output_type": "execute_result"
    }
   ],
   "source": [
    "nfl.OffensePersonnel.value_counts()"
   ]
  },
  {
   "cell_type": "code",
   "execution_count": 21,
   "metadata": {},
   "outputs": [],
   "source": [
    "#Filling remaining Offensive pers group with most commonly occuring. \n",
    "\n",
    "nfl.OffensePersonnel.fillna('11', inplace= True)"
   ]
  },
  {
   "cell_type": "code",
   "execution_count": null,
   "metadata": {},
   "outputs": [],
   "source": []
  },
  {
   "cell_type": "code",
   "execution_count": 24,
   "metadata": {},
   "outputs": [
    {
     "data": {
      "text/plain": [
       "4 DL, 2 LB, 5 DB          6358\n",
       "4 DL, 3 LB, 4 DB          6205\n",
       "3 DL, 4 LB, 4 DB          3656\n",
       "2 DL, 4 LB, 5 DB          2588\n",
       "3 DL, 3 LB, 5 DB          2222\n",
       "2 DL, 3 LB, 6 DB           529\n",
       "4 DL, 1 LB, 6 DB           418\n",
       "4 DL, 4 LB, 3 DB           237\n",
       "3 DL, 2 LB, 6 DB           193\n",
       "5 DL, 2 LB, 4 DB           161\n",
       "5 DL, 3 LB, 3 DB           108\n",
       "1 DL, 4 LB, 6 DB            65\n",
       "3 DL, 5 LB, 3 DB            64\n",
       "6 DL, 4 LB, 1 DB            56\n",
       "5 DL, 4 LB, 2 DB            53\n",
       "6 DL, 3 LB, 2 DB            47\n",
       "5 DL, 1 LB, 5 DB            41\n",
       "6 DL, 2 LB, 3 DB            32\n",
       "1 DL, 5 LB, 5 DB            31\n",
       "2 DL, 5 LB, 4 DB            22\n",
       "2 DL, 2 LB, 7 DB            13\n",
       "1 DL, 3 LB, 7 DB            13\n",
       "3 DL, 1 LB, 7 DB            12\n",
       "5 DL, 3 LB, 2 DB, 1 OL       7\n",
       "5 DL, 5 LB, 1 DB             7\n",
       "0 DL, 5 LB, 6 DB             6\n",
       "4 DL, 5 LB, 2 DB             5\n",
       "0 DL, 4 LB, 7 DB             4\n",
       "2 DL, 4 LB, 4 DB, 1 OL       3\n",
       "5 DL, 4 LB, 1 DB, 1 OL       3\n",
       "4 DL, 0 LB, 7 DB             3\n",
       "0 DL, 6 LB, 5 DB             2\n",
       "4 DL, 6 LB, 1 DB             2\n",
       "6 DL, 1 LB, 4 DB             1\n",
       "4 DL, 5 LB, 1 DB, 1 OL       1\n",
       "1 DL, 2 LB, 8 DB             1\n",
       "7 DL, 2 LB, 2 DB             1\n",
       "3 DL, 4 LB, 3 DB, 1 OL       1\n",
       "Name: DefensePersonnel, dtype: int64"
      ]
     },
     "execution_count": 24,
     "metadata": {},
     "output_type": "execute_result"
    }
   ],
   "source": [
    "nfl.DefensePersonnel.value_counts()"
   ]
  },
  {
   "cell_type": "markdown",
   "metadata": {},
   "source": [
    "Defense Personnel refers to the number of players of each position that the defense has on the field. The original data has 38 different groupings. Similar to what I did with the offense, I group defense personnel groups into the most commonly occuring with the first number representing the number of defensive lineman, second number referring to the number of linebackers, and third number referring to the number of defensive backs"
   ]
  },
  {
   "cell_type": "code",
   "execution_count": 25,
   "metadata": {},
   "outputs": [],
   "source": [
    "def_pers = {'4 DL, 2 LB, 5 DB':'4-2-5', '4 DL, 3 LB, 4 DB': '4-3-4', '3 DL, 4 LB, 4 DB': '3-4-4', \n",
    "            '2 DL, 4 LB, 5 DB':'2-4-5', '3 DL, 3 LB, 5 DB':'3-3-5', '2 DL, 3 LB, 6 DB':'2-3-6', '4 DL, 1 LB, 6 DB':'4-1-6', \n",
    "           '4 DL, 4 LB, 3 DB':'4-4-3', '3 DL, 2 LB, 6 DB': '3-2-6', '5 DL, 2 LB, 4 DB':'5-2-4', '5 DL, 3 LB, 3 DB':'5-3-3'}\n",
    "\n",
    "\n",
    "nfl['DefensePersonnel'] = nfl['DefensePersonnel'].map(def_pers)"
   ]
  },
  {
   "cell_type": "code",
   "execution_count": 26,
   "metadata": {},
   "outputs": [
    {
     "data": {
      "text/plain": [
       "4-2-5    6358\n",
       "4-3-4    6205\n",
       "3-4-4    3656\n",
       "2-4-5    2588\n",
       "3-3-5    2222\n",
       "2-3-6     529\n",
       "4-1-6     418\n",
       "4-4-3     237\n",
       "3-2-6     193\n",
       "5-2-4     161\n",
       "5-3-3     108\n",
       "Name: DefensePersonnel, dtype: int64"
      ]
     },
     "execution_count": 26,
     "metadata": {},
     "output_type": "execute_result"
    }
   ],
   "source": [
    "nfl.DefensePersonnel.value_counts()"
   ]
  },
  {
   "cell_type": "code",
   "execution_count": 27,
   "metadata": {},
   "outputs": [],
   "source": [
    "nfl.DefensePersonnel.fillna('4-2-5', inplace= True)\n",
    "#Filling remaining defense personnel with most common '4-2-5 defense'"
   ]
  },
  {
   "cell_type": "markdown",
   "metadata": {},
   "source": [
    "Standardizing the different types of turf into just natural and artificial"
   ]
  },
  {
   "cell_type": "code",
   "execution_count": 28,
   "metadata": {},
   "outputs": [],
   "source": [
    "Turf = {'Field Turf':'Artificial', 'A-Turf Titan':'Artificial', 'Grass':'Natural', 'UBU Sports Speed S5-M':'Artificial', 'Artificial':'Artificial', 'DD GrassMaster':'Artificial', 'Natural Grass':'Natural', 'UBU Speed Series-S5-M':'Artificial', 'FieldTurf':'Artificial', 'FieldTurf 360':'Artificial', 'Natural grass':'Natural', 'grass':'Natural', 'Natural':'Natural', 'Artifical':'Artificial', 'FieldTurf360':'Artificial', 'Naturall Grass':'Natural', 'Field turf':'Artificial', 'SISGrass':'Artificial', 'Twenty-Four/Seven Turf':'Artificial', 'natural grass':'Natural'} \n",
    "\n",
    "nfl['Turf'] = nfl['Turf'].map(Turf)"
   ]
  },
  {
   "cell_type": "code",
   "execution_count": 29,
   "metadata": {},
   "outputs": [
    {
     "data": {
      "text/plain": [
       "Team                         0\n",
       "S                            0\n",
       "A                            0\n",
       "Dis                          0\n",
       "NflId                        0\n",
       "DisplayName                  0\n",
       "JerseyNumber                 0\n",
       "Season                       0\n",
       "YardLine                     0\n",
       "Quarter                      0\n",
       "GameClock                    0\n",
       "PossessionTeam               0\n",
       "Down                         0\n",
       "Distance                     0\n",
       "HomeScoreBeforePlay          0\n",
       "VisitorScoreBeforePlay       0\n",
       "NflIdRusher                  0\n",
       "OffenseFormation             5\n",
       "OffensePersonnel             0\n",
       "DefendersInTheBox            3\n",
       "DefensePersonnel             0\n",
       "PlayDirection                0\n",
       "Yards                        0\n",
       "PlayerHeight                 0\n",
       "PlayerWeight                 0\n",
       "Position                     0\n",
       "HomeTeamAbbr                 0\n",
       "VisitorTeamAbbr              0\n",
       "Week                         0\n",
       "Stadium                      0\n",
       "Location                     0\n",
       "Turf                         0\n",
       "Temperature               2206\n",
       "Humidity                   280\n",
       "home_team_lead               0\n",
       "dtype: int64"
      ]
     },
     "execution_count": 29,
     "metadata": {},
     "output_type": "execute_result"
    }
   ],
   "source": [
    "nfl.isnull().sum()"
   ]
  },
  {
   "cell_type": "markdown",
   "metadata": {},
   "source": [
    "A few columns have missing data. Since it is a small amount of plays relative to the total dataset, I think it is appropriate to fill the categorical missing entries with the most commonly occuring entry and for the numerical columns, I fill with an average. "
   ]
  },
  {
   "cell_type": "code",
   "execution_count": 30,
   "metadata": {},
   "outputs": [
    {
     "data": {
      "text/plain": [
       "7.0     9478\n",
       "6.0     6933\n",
       "8.0     4971\n",
       "5.0      684\n",
       "9.0      611\n",
       "10.0     187\n",
       "11.0     166\n",
       "4.0      118\n",
       "3.0       18\n",
       "1.0        1\n",
       "2.0        1\n",
       "Name: DefendersInTheBox, dtype: int64"
      ]
     },
     "execution_count": 30,
     "metadata": {},
     "output_type": "execute_result"
    }
   ],
   "source": [
    "nfl.DefendersInTheBox.value_counts()"
   ]
  },
  {
   "cell_type": "code",
   "execution_count": 31,
   "metadata": {},
   "outputs": [],
   "source": [
    "nfl.DefendersInTheBox.fillna(7, inplace = True)"
   ]
  },
  {
   "cell_type": "code",
   "execution_count": 32,
   "metadata": {},
   "outputs": [],
   "source": [
    "nfl.OffenseFormation.fillna('SINGLEBACK', inplace = True)"
   ]
  },
  {
   "cell_type": "code",
   "execution_count": 33,
   "metadata": {},
   "outputs": [],
   "source": [
    "nfl.Temperature.fillna(nfl.Temperature.mean(), inplace = True)\n",
    "#Filling missing temperature valeus with average temp"
   ]
  },
  {
   "cell_type": "code",
   "execution_count": 34,
   "metadata": {},
   "outputs": [],
   "source": [
    "nfl.Humidity.fillna(nfl.Humidity.mean(), inplace = True)\n",
    "#Filling missing humidity values with average humidty"
   ]
  },
  {
   "cell_type": "code",
   "execution_count": 35,
   "metadata": {},
   "outputs": [
    {
     "data": {
      "text/plain": [
       "Team                      0\n",
       "S                         0\n",
       "A                         0\n",
       "Dis                       0\n",
       "NflId                     0\n",
       "DisplayName               0\n",
       "JerseyNumber              0\n",
       "Season                    0\n",
       "YardLine                  0\n",
       "Quarter                   0\n",
       "GameClock                 0\n",
       "PossessionTeam            0\n",
       "Down                      0\n",
       "Distance                  0\n",
       "HomeScoreBeforePlay       0\n",
       "VisitorScoreBeforePlay    0\n",
       "NflIdRusher               0\n",
       "OffenseFormation          0\n",
       "OffensePersonnel          0\n",
       "DefendersInTheBox         0\n",
       "DefensePersonnel          0\n",
       "PlayDirection             0\n",
       "Yards                     0\n",
       "PlayerHeight              0\n",
       "PlayerWeight              0\n",
       "Position                  0\n",
       "HomeTeamAbbr              0\n",
       "VisitorTeamAbbr           0\n",
       "Week                      0\n",
       "Stadium                   0\n",
       "Location                  0\n",
       "Turf                      0\n",
       "Temperature               0\n",
       "Humidity                  0\n",
       "home_team_lead            0\n",
       "dtype: int64"
      ]
     },
     "execution_count": 35,
     "metadata": {},
     "output_type": "execute_result"
    }
   ],
   "source": [
    "nfl.isnull().sum()"
   ]
  },
  {
   "cell_type": "markdown",
   "metadata": {},
   "source": [
    "## Visualizing the data"
   ]
  },
  {
   "cell_type": "code",
   "execution_count": 36,
   "metadata": {},
   "outputs": [
    {
     "data": {
      "image/png": "[encoded data removed]",
      "text/plain": [
       "<Figure size 1080x360 with 1 Axes>"
      ]
     },
     "metadata": {
      "needs_background": "light"
     },
     "output_type": "display_data"
    }
   ],
   "source": [
    "nfl['Yards'] \\\n",
    "    .plot(kind='hist',\n",
    "          figsize=(15, 5),\n",
    "          bins=50,\n",
    "          title='Distribution of Yards Gained')\n",
    "plt.show()\n",
    "\n"
   ]
  },
  {
   "cell_type": "markdown",
   "metadata": {},
   "source": [
    "Yards gained is clustered around 4-5 yards"
   ]
  },
  {
   "cell_type": "code",
   "execution_count": 37,
   "metadata": {},
   "outputs": [
    {
     "data": {
      "image/png": "[encoded data removed]",
      "text/plain": [
       "<Figure size 1080x576 with 4 Axes>"
      ]
     },
     "metadata": {
      "needs_background": "light"
     },
     "output_type": "display_data"
    }
   ],
   "source": [
    "fig, axes = plt.subplots(4, 1, figsize=(15, 8), sharex=True)\n",
    "n = 0\n",
    "for i, d in nfl.groupby('Down'):\n",
    "    d['Yards'].plot(kind='hist',\n",
    "                    bins=30,\n",
    "                   \n",
    "                   ax=axes[n],\n",
    "                   title=f'Yards Gained on down {i}')\n",
    "    n+=1"
   ]
  },
  {
   "cell_type": "markdown",
   "metadata": {},
   "source": [
    "Yards gained by down shows the widest distribution on 1st down."
   ]
  },
  {
   "cell_type": "code",
   "execution_count": 38,
   "metadata": {},
   "outputs": [
    {
     "data": {
      "image/png": "[encoded data removed]",
      "text/plain": [
       "<Figure size 1152x288 with 3 Axes>"
      ]
     },
     "metadata": {
      "needs_background": "light"
     },
     "output_type": "display_data"
    }
   ],
   "source": [
    "fig, (ax1, ax2, ax3) = plt.subplots(1, 3, figsize=(16, 4))\n",
    "nfl['S'].plot(kind='hist', ax=ax1,\n",
    "                title='Distribution of Speed',\n",
    "                bins=20,\n",
    "                )\n",
    "nfl['A'].plot(kind='hist',\n",
    "                ax=ax2,\n",
    "                title='Distribution of Acceleration',\n",
    "                bins=20,\n",
    "                )\n",
    "nfl['Dis'].plot(kind='hist',\n",
    "                  ax=ax3,\n",
    "                  title='Distribution of Distance',\n",
    "                  bins=20,\n",
    "                  )\n",
    "plt.show()"
   ]
  },
  {
   "cell_type": "code",
   "execution_count": 39,
   "metadata": {},
   "outputs": [
    {
     "name": "stderr",
     "output_type": "stream",
     "text": [
      "/Users/wmchale/anaconda3/lib/python3.7/site-packages/scipy/stats/stats.py:1713: FutureWarning: Using a non-tuple sequence for multidimensional indexing is deprecated; use `arr[tuple(seq)]` instead of `arr[seq]`. In the future this will be interpreted as an array index, `arr[np.array(seq)]`, which will result either in an error or a different result.\n",
      "  return np.add.reduce(sorted[indexer] * weights, axis=axis) / sumval\n"
     ]
    },
    {
     "data": {
      "image/png": "[encoded data removed]",
      "text/plain": [
       "<Figure size 818.625x720 with 20 Axes>"
      ]
     },
     "metadata": {
      "needs_background": "light"
     },
     "output_type": "display_data"
    }
   ],
   "source": [
    "\n",
    "sns.pairplot(nfl[['S','Dis','A','Yards','DefensePersonnel']],\n",
    "            hue='DefensePersonnel')\n",
    "plt.suptitle('Speed, Acceleration, Distance traveled, and Yards Gained for Rushers')\n",
    "plt.show()"
   ]
  },
  {
   "cell_type": "code",
   "execution_count": 42,
   "metadata": {},
   "outputs": [
    {
     "data": {
      "text/html": [
       "<div>\n",
       "<style scoped>\n",
       "    .dataframe tbody tr th:only-of-type {\n",
       "        vertical-align: middle;\n",
       "    }\n",
       "\n",
       "    .dataframe tbody tr th {\n",
       "        vertical-align: top;\n",
       "    }\n",
       "\n",
       "    .dataframe thead th {\n",
       "        text-align: right;\n",
       "    }\n",
       "</style>\n",
       "<table border=\"1\" class=\"dataframe\">\n",
       "  <thead>\n",
       "    <tr style=\"text-align: right;\">\n",
       "      <th></th>\n",
       "      <th>count</th>\n",
       "      <th>mean</th>\n",
       "      <th>std</th>\n",
       "      <th>min</th>\n",
       "      <th>25%</th>\n",
       "      <th>50%</th>\n",
       "      <th>75%</th>\n",
       "      <th>max</th>\n",
       "    </tr>\n",
       "    <tr>\n",
       "      <th>OffenseFormation</th>\n",
       "      <th></th>\n",
       "      <th></th>\n",
       "      <th></th>\n",
       "      <th></th>\n",
       "      <th></th>\n",
       "      <th></th>\n",
       "      <th></th>\n",
       "      <th></th>\n",
       "    </tr>\n",
       "  </thead>\n",
       "  <tbody>\n",
       "    <tr>\n",
       "      <th>ACE</th>\n",
       "      <td>1.0</td>\n",
       "      <td>4.000000</td>\n",
       "      <td>NaN</td>\n",
       "      <td>4.0</td>\n",
       "      <td>4.0</td>\n",
       "      <td>4.0</td>\n",
       "      <td>4.0</td>\n",
       "      <td>4.0</td>\n",
       "    </tr>\n",
       "    <tr>\n",
       "      <th>EMPTY</th>\n",
       "      <td>23.0</td>\n",
       "      <td>5.043478</td>\n",
       "      <td>5.803434</td>\n",
       "      <td>-5.0</td>\n",
       "      <td>3.0</td>\n",
       "      <td>5.0</td>\n",
       "      <td>6.0</td>\n",
       "      <td>21.0</td>\n",
       "    </tr>\n",
       "    <tr>\n",
       "      <th>I_FORM</th>\n",
       "      <td>4821.0</td>\n",
       "      <td>4.022402</td>\n",
       "      <td>6.551639</td>\n",
       "      <td>-12.0</td>\n",
       "      <td>1.0</td>\n",
       "      <td>3.0</td>\n",
       "      <td>5.0</td>\n",
       "      <td>75.0</td>\n",
       "    </tr>\n",
       "    <tr>\n",
       "      <th>JUMBO</th>\n",
       "      <td>521.0</td>\n",
       "      <td>1.756238</td>\n",
       "      <td>5.526517</td>\n",
       "      <td>-6.0</td>\n",
       "      <td>0.0</td>\n",
       "      <td>1.0</td>\n",
       "      <td>2.0</td>\n",
       "      <td>90.0</td>\n",
       "    </tr>\n",
       "    <tr>\n",
       "      <th>PISTOL</th>\n",
       "      <td>610.0</td>\n",
       "      <td>4.298361</td>\n",
       "      <td>5.545409</td>\n",
       "      <td>-8.0</td>\n",
       "      <td>1.0</td>\n",
       "      <td>3.0</td>\n",
       "      <td>6.0</td>\n",
       "      <td>43.0</td>\n",
       "    </tr>\n",
       "    <tr>\n",
       "      <th>SHOTGUN</th>\n",
       "      <td>6862.0</td>\n",
       "      <td>4.508161</td>\n",
       "      <td>6.085829</td>\n",
       "      <td>-12.0</td>\n",
       "      <td>1.0</td>\n",
       "      <td>3.0</td>\n",
       "      <td>6.0</td>\n",
       "      <td>87.0</td>\n",
       "    </tr>\n",
       "    <tr>\n",
       "      <th>SINGLEBACK</th>\n",
       "      <td>10252.0</td>\n",
       "      <td>4.221420</td>\n",
       "      <td>6.685964</td>\n",
       "      <td>-14.0</td>\n",
       "      <td>1.0</td>\n",
       "      <td>3.0</td>\n",
       "      <td>6.0</td>\n",
       "      <td>99.0</td>\n",
       "    </tr>\n",
       "    <tr>\n",
       "      <th>WILDCAT</th>\n",
       "      <td>81.0</td>\n",
       "      <td>4.222222</td>\n",
       "      <td>4.034229</td>\n",
       "      <td>-4.0</td>\n",
       "      <td>2.0</td>\n",
       "      <td>3.0</td>\n",
       "      <td>6.0</td>\n",
       "      <td>16.0</td>\n",
       "    </tr>\n",
       "  </tbody>\n",
       "</table>\n",
       "</div>"
      ],
      "text/plain": [
       "                    count      mean       std   min  25%  50%  75%   max\n",
       "OffenseFormation                                                        \n",
       "ACE                   1.0  4.000000       NaN   4.0  4.0  4.0  4.0   4.0\n",
       "EMPTY                23.0  5.043478  5.803434  -5.0  3.0  5.0  6.0  21.0\n",
       "I_FORM             4821.0  4.022402  6.551639 -12.0  1.0  3.0  5.0  75.0\n",
       "JUMBO               521.0  1.756238  5.526517  -6.0  0.0  1.0  2.0  90.0\n",
       "PISTOL              610.0  4.298361  5.545409  -8.0  1.0  3.0  6.0  43.0\n",
       "SHOTGUN            6862.0  4.508161  6.085829 -12.0  1.0  3.0  6.0  87.0\n",
       "SINGLEBACK        10252.0  4.221420  6.685964 -14.0  1.0  3.0  6.0  99.0\n",
       "WILDCAT              81.0  4.222222  4.034229  -4.0  2.0  3.0  6.0  16.0"
      ]
     },
     "execution_count": 42,
     "metadata": {},
     "output_type": "execute_result"
    }
   ],
   "source": [
    "nfl.groupby('OffenseFormation').Yards.describe()"
   ]
  },
  {
   "cell_type": "code",
   "execution_count": 206,
   "metadata": {},
   "outputs": [
    {
     "name": "stderr",
     "output_type": "stream",
     "text": [
      "/Users/wmchale/anaconda3/lib/python3.7/site-packages/scipy/stats/stats.py:1713: FutureWarning: Using a non-tuple sequence for multidimensional indexing is deprecated; use `arr[tuple(seq)]` instead of `arr[seq]`. In the future this will be interpreted as an array index, `arr[np.array(seq)]`, which will result either in an error or a different result.\n",
      "  return np.add.reduce(sorted[indexer] * weights, axis=axis) / sumval\n"
     ]
    },
    {
     "data": {
      "image/png": "[encoded data removed]",
      "text/plain": [
       "<Figure size 1080x360 with 1 Axes>"
      ]
     },
     "metadata": {
      "needs_background": "light"
     },
     "output_type": "display_data"
    }
   ],
   "source": [
    "fig, ax = plt.subplots(figsize=(15, 5))\n",
    "sns.violinplot(x='OffenseFormation',\n",
    "               y='Yards',\n",
    "               data=nfl,\n",
    "               ax=ax)\n",
    "plt.ylim(-10, 20)\n",
    "plt.title('Yards vs Offense Formation')\n",
    "plt.show()"
   ]
  },
  {
   "cell_type": "code",
   "execution_count": 45,
   "metadata": {},
   "outputs": [
    {
     "data": {
      "text/html": [
       "<div>\n",
       "<style scoped>\n",
       "    .dataframe tbody tr th:only-of-type {\n",
       "        vertical-align: middle;\n",
       "    }\n",
       "\n",
       "    .dataframe tbody tr th {\n",
       "        vertical-align: top;\n",
       "    }\n",
       "\n",
       "    .dataframe thead th {\n",
       "        text-align: right;\n",
       "    }\n",
       "</style>\n",
       "<table border=\"1\" class=\"dataframe\">\n",
       "  <thead>\n",
       "    <tr style=\"text-align: right;\">\n",
       "      <th></th>\n",
       "      <th>count</th>\n",
       "      <th>mean</th>\n",
       "      <th>std</th>\n",
       "      <th>min</th>\n",
       "      <th>25%</th>\n",
       "      <th>50%</th>\n",
       "      <th>75%</th>\n",
       "      <th>max</th>\n",
       "    </tr>\n",
       "    <tr>\n",
       "      <th>OffensePersonnel</th>\n",
       "      <th></th>\n",
       "      <th></th>\n",
       "      <th></th>\n",
       "      <th></th>\n",
       "      <th></th>\n",
       "      <th></th>\n",
       "      <th></th>\n",
       "      <th></th>\n",
       "    </tr>\n",
       "  </thead>\n",
       "  <tbody>\n",
       "    <tr>\n",
       "      <th>01</th>\n",
       "      <td>76.0</td>\n",
       "      <td>3.947368</td>\n",
       "      <td>6.474349</td>\n",
       "      <td>-5.0</td>\n",
       "      <td>1.0</td>\n",
       "      <td>3.0</td>\n",
       "      <td>6.0</td>\n",
       "      <td>43.0</td>\n",
       "    </tr>\n",
       "    <tr>\n",
       "      <th>10</th>\n",
       "      <td>85.0</td>\n",
       "      <td>5.388235</td>\n",
       "      <td>8.630089</td>\n",
       "      <td>-8.0</td>\n",
       "      <td>2.0</td>\n",
       "      <td>4.0</td>\n",
       "      <td>6.0</td>\n",
       "      <td>74.0</td>\n",
       "    </tr>\n",
       "    <tr>\n",
       "      <th>11</th>\n",
       "      <td>11599.0</td>\n",
       "      <td>4.446159</td>\n",
       "      <td>6.379071</td>\n",
       "      <td>-14.0</td>\n",
       "      <td>1.0</td>\n",
       "      <td>3.0</td>\n",
       "      <td>6.0</td>\n",
       "      <td>90.0</td>\n",
       "    </tr>\n",
       "    <tr>\n",
       "      <th>12</th>\n",
       "      <td>5767.0</td>\n",
       "      <td>3.955610</td>\n",
       "      <td>6.225565</td>\n",
       "      <td>-12.0</td>\n",
       "      <td>1.0</td>\n",
       "      <td>3.0</td>\n",
       "      <td>5.0</td>\n",
       "      <td>97.0</td>\n",
       "    </tr>\n",
       "    <tr>\n",
       "      <th>13</th>\n",
       "      <td>1423.0</td>\n",
       "      <td>3.564301</td>\n",
       "      <td>6.489409</td>\n",
       "      <td>-9.0</td>\n",
       "      <td>1.0</td>\n",
       "      <td>2.0</td>\n",
       "      <td>5.0</td>\n",
       "      <td>99.0</td>\n",
       "    </tr>\n",
       "    <tr>\n",
       "      <th>20</th>\n",
       "      <td>157.0</td>\n",
       "      <td>4.280255</td>\n",
       "      <td>6.852694</td>\n",
       "      <td>-7.0</td>\n",
       "      <td>1.0</td>\n",
       "      <td>3.0</td>\n",
       "      <td>5.0</td>\n",
       "      <td>53.0</td>\n",
       "    </tr>\n",
       "    <tr>\n",
       "      <th>21</th>\n",
       "      <td>2706.0</td>\n",
       "      <td>4.313378</td>\n",
       "      <td>6.894297</td>\n",
       "      <td>-12.0</td>\n",
       "      <td>1.0</td>\n",
       "      <td>3.0</td>\n",
       "      <td>6.0</td>\n",
       "      <td>75.0</td>\n",
       "    </tr>\n",
       "    <tr>\n",
       "      <th>22</th>\n",
       "      <td>1345.0</td>\n",
       "      <td>3.727881</td>\n",
       "      <td>6.502655</td>\n",
       "      <td>-6.0</td>\n",
       "      <td>1.0</td>\n",
       "      <td>2.0</td>\n",
       "      <td>5.0</td>\n",
       "      <td>90.0</td>\n",
       "    </tr>\n",
       "    <tr>\n",
       "      <th>30</th>\n",
       "      <td>13.0</td>\n",
       "      <td>2.538462</td>\n",
       "      <td>4.858247</td>\n",
       "      <td>-3.0</td>\n",
       "      <td>1.0</td>\n",
       "      <td>2.0</td>\n",
       "      <td>3.0</td>\n",
       "      <td>15.0</td>\n",
       "    </tr>\n",
       "  </tbody>\n",
       "</table>\n",
       "</div>"
      ],
      "text/plain": [
       "                    count      mean       std   min  25%  50%  75%   max\n",
       "OffensePersonnel                                                        \n",
       "01                   76.0  3.947368  6.474349  -5.0  1.0  3.0  6.0  43.0\n",
       "10                   85.0  5.388235  8.630089  -8.0  2.0  4.0  6.0  74.0\n",
       "11                11599.0  4.446159  6.379071 -14.0  1.0  3.0  6.0  90.0\n",
       "12                 5767.0  3.955610  6.225565 -12.0  1.0  3.0  5.0  97.0\n",
       "13                 1423.0  3.564301  6.489409  -9.0  1.0  2.0  5.0  99.0\n",
       "20                  157.0  4.280255  6.852694  -7.0  1.0  3.0  5.0  53.0\n",
       "21                 2706.0  4.313378  6.894297 -12.0  1.0  3.0  6.0  75.0\n",
       "22                 1345.0  3.727881  6.502655  -6.0  1.0  2.0  5.0  90.0\n",
       "30                   13.0  2.538462  4.858247  -3.0  1.0  2.0  3.0  15.0"
      ]
     },
     "execution_count": 45,
     "metadata": {},
     "output_type": "execute_result"
    }
   ],
   "source": [
    "nfl.groupby('OffensePersonnel').Yards.describe()\n"
   ]
  },
  {
   "cell_type": "code",
   "execution_count": 47,
   "metadata": {},
   "outputs": [
    {
     "data": {
      "image/png": "[encoded data removed]",
      "text/plain": [
       "<Figure size 1080x360 with 1 Axes>"
      ]
     },
     "metadata": {
      "needs_background": "light"
     },
     "output_type": "display_data"
    }
   ],
   "source": [
    "fig, ax = plt.subplots(figsize=(15, 5))\n",
    "sns.violinplot(x='OffensePersonnel',\n",
    "               y='Yards',\n",
    "               data=nfl,\n",
    "               ax=ax)\n",
    "plt.ylim(-10, 20)\n",
    "plt.title('Yards vs Offense Personnel')\n",
    "plt.show()"
   ]
  },
  {
   "cell_type": "code",
   "execution_count": 48,
   "metadata": {},
   "outputs": [
    {
     "data": {
      "text/html": [
       "<div>\n",
       "<style scoped>\n",
       "    .dataframe tbody tr th:only-of-type {\n",
       "        vertical-align: middle;\n",
       "    }\n",
       "\n",
       "    .dataframe tbody tr th {\n",
       "        vertical-align: top;\n",
       "    }\n",
       "\n",
       "    .dataframe thead th {\n",
       "        text-align: right;\n",
       "    }\n",
       "</style>\n",
       "<table border=\"1\" class=\"dataframe\">\n",
       "  <thead>\n",
       "    <tr style=\"text-align: right;\">\n",
       "      <th></th>\n",
       "      <th>count</th>\n",
       "      <th>mean</th>\n",
       "      <th>std</th>\n",
       "      <th>min</th>\n",
       "      <th>25%</th>\n",
       "      <th>50%</th>\n",
       "      <th>75%</th>\n",
       "      <th>max</th>\n",
       "    </tr>\n",
       "    <tr>\n",
       "      <th>DefensePersonnel</th>\n",
       "      <th></th>\n",
       "      <th></th>\n",
       "      <th></th>\n",
       "      <th></th>\n",
       "      <th></th>\n",
       "      <th></th>\n",
       "      <th></th>\n",
       "      <th></th>\n",
       "    </tr>\n",
       "  </thead>\n",
       "  <tbody>\n",
       "    <tr>\n",
       "      <th>2-3-6</th>\n",
       "      <td>529.0</td>\n",
       "      <td>4.977316</td>\n",
       "      <td>6.292692</td>\n",
       "      <td>-6.0</td>\n",
       "      <td>1.0</td>\n",
       "      <td>4.0</td>\n",
       "      <td>7.0</td>\n",
       "      <td>54.0</td>\n",
       "    </tr>\n",
       "    <tr>\n",
       "      <th>2-4-5</th>\n",
       "      <td>2588.0</td>\n",
       "      <td>4.413060</td>\n",
       "      <td>5.996180</td>\n",
       "      <td>-14.0</td>\n",
       "      <td>1.0</td>\n",
       "      <td>3.0</td>\n",
       "      <td>6.0</td>\n",
       "      <td>75.0</td>\n",
       "    </tr>\n",
       "    <tr>\n",
       "      <th>3-2-6</th>\n",
       "      <td>193.0</td>\n",
       "      <td>5.321244</td>\n",
       "      <td>5.254008</td>\n",
       "      <td>-5.0</td>\n",
       "      <td>2.0</td>\n",
       "      <td>4.0</td>\n",
       "      <td>8.0</td>\n",
       "      <td>25.0</td>\n",
       "    </tr>\n",
       "    <tr>\n",
       "      <th>3-3-5</th>\n",
       "      <td>2222.0</td>\n",
       "      <td>4.509001</td>\n",
       "      <td>6.034619</td>\n",
       "      <td>-10.0</td>\n",
       "      <td>1.0</td>\n",
       "      <td>3.0</td>\n",
       "      <td>6.0</td>\n",
       "      <td>77.0</td>\n",
       "    </tr>\n",
       "    <tr>\n",
       "      <th>3-4-4</th>\n",
       "      <td>3656.0</td>\n",
       "      <td>3.900438</td>\n",
       "      <td>6.371271</td>\n",
       "      <td>-12.0</td>\n",
       "      <td>1.0</td>\n",
       "      <td>3.0</td>\n",
       "      <td>5.0</td>\n",
       "      <td>97.0</td>\n",
       "    </tr>\n",
       "    <tr>\n",
       "      <th>4-1-6</th>\n",
       "      <td>418.0</td>\n",
       "      <td>5.198565</td>\n",
       "      <td>6.901590</td>\n",
       "      <td>-5.0</td>\n",
       "      <td>1.0</td>\n",
       "      <td>3.0</td>\n",
       "      <td>7.0</td>\n",
       "      <td>57.0</td>\n",
       "    </tr>\n",
       "    <tr>\n",
       "      <th>4-2-5</th>\n",
       "      <td>6854.0</td>\n",
       "      <td>4.416837</td>\n",
       "      <td>6.718844</td>\n",
       "      <td>-12.0</td>\n",
       "      <td>1.0</td>\n",
       "      <td>3.0</td>\n",
       "      <td>6.0</td>\n",
       "      <td>90.0</td>\n",
       "    </tr>\n",
       "    <tr>\n",
       "      <th>4-3-4</th>\n",
       "      <td>6205.0</td>\n",
       "      <td>3.938598</td>\n",
       "      <td>6.460309</td>\n",
       "      <td>-12.0</td>\n",
       "      <td>1.0</td>\n",
       "      <td>3.0</td>\n",
       "      <td>5.0</td>\n",
       "      <td>99.0</td>\n",
       "    </tr>\n",
       "    <tr>\n",
       "      <th>4-4-3</th>\n",
       "      <td>237.0</td>\n",
       "      <td>1.957806</td>\n",
       "      <td>5.905893</td>\n",
       "      <td>-6.0</td>\n",
       "      <td>0.0</td>\n",
       "      <td>1.0</td>\n",
       "      <td>2.0</td>\n",
       "      <td>72.0</td>\n",
       "    </tr>\n",
       "    <tr>\n",
       "      <th>5-2-4</th>\n",
       "      <td>161.0</td>\n",
       "      <td>4.596273</td>\n",
       "      <td>7.441756</td>\n",
       "      <td>-6.0</td>\n",
       "      <td>1.0</td>\n",
       "      <td>3.0</td>\n",
       "      <td>5.0</td>\n",
       "      <td>58.0</td>\n",
       "    </tr>\n",
       "    <tr>\n",
       "      <th>5-3-3</th>\n",
       "      <td>108.0</td>\n",
       "      <td>1.435185</td>\n",
       "      <td>3.986597</td>\n",
       "      <td>-5.0</td>\n",
       "      <td>0.0</td>\n",
       "      <td>1.0</td>\n",
       "      <td>2.0</td>\n",
       "      <td>36.0</td>\n",
       "    </tr>\n",
       "  </tbody>\n",
       "</table>\n",
       "</div>"
      ],
      "text/plain": [
       "                   count      mean       std   min  25%  50%  75%   max\n",
       "DefensePersonnel                                                       \n",
       "2-3-6              529.0  4.977316  6.292692  -6.0  1.0  4.0  7.0  54.0\n",
       "2-4-5             2588.0  4.413060  5.996180 -14.0  1.0  3.0  6.0  75.0\n",
       "3-2-6              193.0  5.321244  5.254008  -5.0  2.0  4.0  8.0  25.0\n",
       "3-3-5             2222.0  4.509001  6.034619 -10.0  1.0  3.0  6.0  77.0\n",
       "3-4-4             3656.0  3.900438  6.371271 -12.0  1.0  3.0  5.0  97.0\n",
       "4-1-6              418.0  5.198565  6.901590  -5.0  1.0  3.0  7.0  57.0\n",
       "4-2-5             6854.0  4.416837  6.718844 -12.0  1.0  3.0  6.0  90.0\n",
       "4-3-4             6205.0  3.938598  6.460309 -12.0  1.0  3.0  5.0  99.0\n",
       "4-4-3              237.0  1.957806  5.905893  -6.0  0.0  1.0  2.0  72.0\n",
       "5-2-4              161.0  4.596273  7.441756  -6.0  1.0  3.0  5.0  58.0\n",
       "5-3-3              108.0  1.435185  3.986597  -5.0  0.0  1.0  2.0  36.0"
      ]
     },
     "execution_count": 48,
     "metadata": {},
     "output_type": "execute_result"
    }
   ],
   "source": [
    "\n",
    "nfl.groupby('DefensePersonnel').Yards.describe()\n"
   ]
  },
  {
   "cell_type": "code",
   "execution_count": 49,
   "metadata": {},
   "outputs": [
    {
     "name": "stderr",
     "output_type": "stream",
     "text": [
      "/Users/wmchale/anaconda3/lib/python3.7/site-packages/scipy/stats/stats.py:1713: FutureWarning: Using a non-tuple sequence for multidimensional indexing is deprecated; use `arr[tuple(seq)]` instead of `arr[seq]`. In the future this will be interpreted as an array index, `arr[np.array(seq)]`, which will result either in an error or a different result.\n",
      "  return np.add.reduce(sorted[indexer] * weights, axis=axis) / sumval\n"
     ]
    },
    {
     "data": {
      "image/png": "[encoded data removed]",
      "text/plain": [
       "<Figure size 1080x360 with 1 Axes>"
      ]
     },
     "metadata": {
      "needs_background": "light"
     },
     "output_type": "display_data"
    }
   ],
   "source": [
    "fig, ax = plt.subplots(figsize=(15, 5))\n",
    "sns.violinplot(x='DefensePersonnel',\n",
    "               y='Yards',\n",
    "               data=nfl,\n",
    "               ax=ax)\n",
    "plt.ylim(-10, 20)\n",
    "plt.title('Yards vs Defensive Personnel')\n",
    "plt.show()"
   ]
  },
  {
   "cell_type": "code",
   "execution_count": 50,
   "metadata": {},
   "outputs": [
    {
     "data": {
      "text/html": [
       "<div>\n",
       "<style scoped>\n",
       "    .dataframe tbody tr th:only-of-type {\n",
       "        vertical-align: middle;\n",
       "    }\n",
       "\n",
       "    .dataframe tbody tr th {\n",
       "        vertical-align: top;\n",
       "    }\n",
       "\n",
       "    .dataframe thead th {\n",
       "        text-align: right;\n",
       "    }\n",
       "</style>\n",
       "<table border=\"1\" class=\"dataframe\">\n",
       "  <thead>\n",
       "    <tr style=\"text-align: right;\">\n",
       "      <th></th>\n",
       "      <th>count</th>\n",
       "      <th>mean</th>\n",
       "      <th>std</th>\n",
       "      <th>min</th>\n",
       "      <th>25%</th>\n",
       "      <th>50%</th>\n",
       "      <th>75%</th>\n",
       "      <th>max</th>\n",
       "    </tr>\n",
       "    <tr>\n",
       "      <th>Quarter</th>\n",
       "      <th></th>\n",
       "      <th></th>\n",
       "      <th></th>\n",
       "      <th></th>\n",
       "      <th></th>\n",
       "      <th></th>\n",
       "      <th></th>\n",
       "      <th></th>\n",
       "    </tr>\n",
       "  </thead>\n",
       "  <tbody>\n",
       "    <tr>\n",
       "      <th>1</th>\n",
       "      <td>6003.0</td>\n",
       "      <td>4.137431</td>\n",
       "      <td>6.052442</td>\n",
       "      <td>-12.0</td>\n",
       "      <td>1.0</td>\n",
       "      <td>3.0</td>\n",
       "      <td>6.0</td>\n",
       "      <td>87.0</td>\n",
       "    </tr>\n",
       "    <tr>\n",
       "      <th>2</th>\n",
       "      <td>5565.0</td>\n",
       "      <td>4.359748</td>\n",
       "      <td>6.691945</td>\n",
       "      <td>-11.0</td>\n",
       "      <td>1.0</td>\n",
       "      <td>3.0</td>\n",
       "      <td>6.0</td>\n",
       "      <td>99.0</td>\n",
       "    </tr>\n",
       "    <tr>\n",
       "      <th>3</th>\n",
       "      <td>5683.0</td>\n",
       "      <td>4.377793</td>\n",
       "      <td>6.773266</td>\n",
       "      <td>-14.0</td>\n",
       "      <td>1.0</td>\n",
       "      <td>3.0</td>\n",
       "      <td>6.0</td>\n",
       "      <td>92.0</td>\n",
       "    </tr>\n",
       "    <tr>\n",
       "      <th>4</th>\n",
       "      <td>5747.0</td>\n",
       "      <td>3.969723</td>\n",
       "      <td>6.169673</td>\n",
       "      <td>-10.0</td>\n",
       "      <td>1.0</td>\n",
       "      <td>3.0</td>\n",
       "      <td>5.0</td>\n",
       "      <td>90.0</td>\n",
       "    </tr>\n",
       "    <tr>\n",
       "      <th>5</th>\n",
       "      <td>173.0</td>\n",
       "      <td>4.693642</td>\n",
       "      <td>7.895673</td>\n",
       "      <td>-11.0</td>\n",
       "      <td>1.0</td>\n",
       "      <td>2.0</td>\n",
       "      <td>7.0</td>\n",
       "      <td>53.0</td>\n",
       "    </tr>\n",
       "  </tbody>\n",
       "</table>\n",
       "</div>"
      ],
      "text/plain": [
       "          count      mean       std   min  25%  50%  75%   max\n",
       "Quarter                                                       \n",
       "1        6003.0  4.137431  6.052442 -12.0  1.0  3.0  6.0  87.0\n",
       "2        5565.0  4.359748  6.691945 -11.0  1.0  3.0  6.0  99.0\n",
       "3        5683.0  4.377793  6.773266 -14.0  1.0  3.0  6.0  92.0\n",
       "4        5747.0  3.969723  6.169673 -10.0  1.0  3.0  5.0  90.0\n",
       "5         173.0  4.693642  7.895673 -11.0  1.0  2.0  7.0  53.0"
      ]
     },
     "execution_count": 50,
     "metadata": {},
     "output_type": "execute_result"
    }
   ],
   "source": [
    "nfl.groupby('Quarter').Yards.describe()\n",
    "\n",
    "#Average running play in the 4th quarter gains fewer yards than previous 3 quarters."
   ]
  },
  {
   "cell_type": "code",
   "execution_count": 51,
   "metadata": {},
   "outputs": [
    {
     "data": {
      "image/png": "[encoded data removed]",
      "text/plain": [
       "<Figure size 1080x360 with 1 Axes>"
      ]
     },
     "metadata": {
      "needs_background": "light"
     },
     "output_type": "display_data"
    }
   ],
   "source": [
    "fig, ax = plt.subplots(figsize=(15, 5))\n",
    "ax.set_ylim(-10, 60)\n",
    "ax.set_title('Yards vs Quarter')\n",
    "sns.boxenplot(x='Quarter',\n",
    "            y='Yards',\n",
    "            data=nfl,\n",
    "            ax=ax)\n",
    "plt.show()"
   ]
  },
  {
   "cell_type": "code",
   "execution_count": 52,
   "metadata": {},
   "outputs": [
    {
     "data": {
      "text/html": [
       "<div>\n",
       "<style scoped>\n",
       "    .dataframe tbody tr th:only-of-type {\n",
       "        vertical-align: middle;\n",
       "    }\n",
       "\n",
       "    .dataframe tbody tr th {\n",
       "        vertical-align: top;\n",
       "    }\n",
       "\n",
       "    .dataframe thead th {\n",
       "        text-align: right;\n",
       "    }\n",
       "</style>\n",
       "<table border=\"1\" class=\"dataframe\">\n",
       "  <thead>\n",
       "    <tr style=\"text-align: right;\">\n",
       "      <th></th>\n",
       "      <th>count</th>\n",
       "      <th>mean</th>\n",
       "      <th>std</th>\n",
       "      <th>min</th>\n",
       "      <th>25%</th>\n",
       "      <th>50%</th>\n",
       "      <th>75%</th>\n",
       "      <th>max</th>\n",
       "    </tr>\n",
       "    <tr>\n",
       "      <th>Down</th>\n",
       "      <th></th>\n",
       "      <th></th>\n",
       "      <th></th>\n",
       "      <th></th>\n",
       "      <th></th>\n",
       "      <th></th>\n",
       "      <th></th>\n",
       "      <th></th>\n",
       "    </tr>\n",
       "  </thead>\n",
       "  <tbody>\n",
       "    <tr>\n",
       "      <th>1</th>\n",
       "      <td>13303.0</td>\n",
       "      <td>4.303541</td>\n",
       "      <td>6.466063</td>\n",
       "      <td>-14.0</td>\n",
       "      <td>1.0</td>\n",
       "      <td>3.0</td>\n",
       "      <td>6.0</td>\n",
       "      <td>99.0</td>\n",
       "    </tr>\n",
       "    <tr>\n",
       "      <th>2</th>\n",
       "      <td>7863.0</td>\n",
       "      <td>4.133537</td>\n",
       "      <td>6.290150</td>\n",
       "      <td>-12.0</td>\n",
       "      <td>1.0</td>\n",
       "      <td>3.0</td>\n",
       "      <td>6.0</td>\n",
       "      <td>92.0</td>\n",
       "    </tr>\n",
       "    <tr>\n",
       "      <th>3</th>\n",
       "      <td>1814.0</td>\n",
       "      <td>4.091510</td>\n",
       "      <td>6.944854</td>\n",
       "      <td>-12.0</td>\n",
       "      <td>1.0</td>\n",
       "      <td>2.0</td>\n",
       "      <td>5.0</td>\n",
       "      <td>90.0</td>\n",
       "    </tr>\n",
       "    <tr>\n",
       "      <th>4</th>\n",
       "      <td>191.0</td>\n",
       "      <td>2.251309</td>\n",
       "      <td>4.730604</td>\n",
       "      <td>-9.0</td>\n",
       "      <td>0.0</td>\n",
       "      <td>1.0</td>\n",
       "      <td>3.0</td>\n",
       "      <td>29.0</td>\n",
       "    </tr>\n",
       "  </tbody>\n",
       "</table>\n",
       "</div>"
      ],
      "text/plain": [
       "        count      mean       std   min  25%  50%  75%   max\n",
       "Down                                                        \n",
       "1     13303.0  4.303541  6.466063 -14.0  1.0  3.0  6.0  99.0\n",
       "2      7863.0  4.133537  6.290150 -12.0  1.0  3.0  6.0  92.0\n",
       "3      1814.0  4.091510  6.944854 -12.0  1.0  2.0  5.0  90.0\n",
       "4       191.0  2.251309  4.730604  -9.0  0.0  1.0  3.0  29.0"
      ]
     },
     "execution_count": 52,
     "metadata": {},
     "output_type": "execute_result"
    }
   ],
   "source": [
    "nfl.groupby('Down').Yards.describe()\n",
    "#Teams gained the most yards on average on first down\n"
   ]
  },
  {
   "cell_type": "code",
   "execution_count": 53,
   "metadata": {},
   "outputs": [
    {
     "data": {
      "image/png": "[encoded data removed]",
      "text/plain": [
       "<Figure size 1080x360 with 1 Axes>"
      ]
     },
     "metadata": {
      "needs_background": "light"
     },
     "output_type": "display_data"
    }
   ],
   "source": [
    "fig, ax = plt.subplots(figsize=(15, 5))\n",
    "ax.set_ylim(-10, 60)\n",
    "ax.set_title('Yards vs Down')\n",
    "sns.boxenplot(x='Down',\n",
    "            y='Yards',\n",
    "            data=nfl,\n",
    "            ax=ax)\n",
    "plt.show()"
   ]
  },
  {
   "cell_type": "code",
   "execution_count": 54,
   "metadata": {},
   "outputs": [
    {
     "data": {
      "image/png": "[encoded data removed]",
      "text/plain": [
       "<Figure size 1080x360 with 1 Axes>"
      ]
     },
     "metadata": {
      "needs_background": "light"
     },
     "output_type": "display_data"
    }
   ],
   "source": [
    "fig, ax = plt.subplots(figsize=(15, 5))\n",
    "ax.set_ylim(-10, 60)\n",
    "sns.boxenplot(x='DefendersInTheBox',\n",
    "               y='Yards',\n",
    "               data=nfl.query('DefendersInTheBox > 2'),\n",
    "               ax=ax)\n",
    "plt.title('Yards vs Defenders in the Box')\n",
    "plt.show()"
   ]
  },
  {
   "cell_type": "code",
   "execution_count": 55,
   "metadata": {},
   "outputs": [
    {
     "name": "stderr",
     "output_type": "stream",
     "text": [
      "/Users/wmchale/anaconda3/lib/python3.7/site-packages/scipy/stats/stats.py:1713: FutureWarning: Using a non-tuple sequence for multidimensional indexing is deprecated; use `arr[tuple(seq)]` instead of `arr[seq]`. In the future this will be interpreted as an array index, `arr[np.array(seq)]`, which will result either in an error or a different result.\n",
      "  return np.add.reduce(sorted[indexer] * weights, axis=axis) / sumval\n"
     ]
    },
    {
     "data": {
      "image/png": "[encoded data removed]",
      "text/plain": [
       "<Figure size 1080x720 with 6 Axes>"
      ]
     },
     "metadata": {
      "needs_background": "light"
     },
     "output_type": "display_data"
    }
   ],
   "source": [
    "fig, axes = plt.subplots(3, 2, constrained_layout=True, figsize=(15 , 10))\n",
    "#fig.tight_layout()\n",
    "ax_idx = 0\n",
    "ax_idx2 = 0\n",
    "for i in range(4, 10):\n",
    "    this_ax = axes[ax_idx2][ax_idx]\n",
    "    #print(ax_idx, ax_idx2)\n",
    "    sns.distplot(nfl.query('DefendersInTheBox == @i')['Yards'],\n",
    "                ax=this_ax,\n",
    "                )\n",
    "    this_ax.set_title(f'{i} Defenders in the box')\n",
    "    this_ax.set_xlim(-10, 20)\n",
    "    ax_idx += 1\n",
    "    if ax_idx == 2:\n",
    "        ax_idx = 0\n",
    "        ax_idx2 += 1\n",
    "plt.show()"
   ]
  },
  {
   "cell_type": "code",
   "execution_count": 68,
   "metadata": {},
   "outputs": [],
   "source": [
    "personnel = nfl.groupby(['OffensePersonnel', 'DefensePersonnel']).Yards.describe()\n"
   ]
  },
  {
   "cell_type": "code",
   "execution_count": 207,
   "metadata": {},
   "outputs": [
    {
     "data": {
      "text/html": [
       "<div>\n",
       "<style scoped>\n",
       "    .dataframe tbody tr th:only-of-type {\n",
       "        vertical-align: middle;\n",
       "    }\n",
       "\n",
       "    .dataframe tbody tr th {\n",
       "        vertical-align: top;\n",
       "    }\n",
       "\n",
       "    .dataframe thead th {\n",
       "        text-align: right;\n",
       "    }\n",
       "</style>\n",
       "<table border=\"1\" class=\"dataframe\">\n",
       "  <thead>\n",
       "    <tr style=\"text-align: right;\">\n",
       "      <th></th>\n",
       "      <th></th>\n",
       "      <th>count</th>\n",
       "      <th>mean</th>\n",
       "      <th>std</th>\n",
       "      <th>min</th>\n",
       "      <th>25%</th>\n",
       "      <th>50%</th>\n",
       "      <th>75%</th>\n",
       "      <th>max</th>\n",
       "    </tr>\n",
       "    <tr>\n",
       "      <th>OffensePersonnel</th>\n",
       "      <th>DefensePersonnel</th>\n",
       "      <th></th>\n",
       "      <th></th>\n",
       "      <th></th>\n",
       "      <th></th>\n",
       "      <th></th>\n",
       "      <th></th>\n",
       "      <th></th>\n",
       "      <th></th>\n",
       "    </tr>\n",
       "  </thead>\n",
       "  <tbody>\n",
       "    <tr>\n",
       "      <th>12</th>\n",
       "      <th>5-3-3</th>\n",
       "      <td>11.0</td>\n",
       "      <td>0.272727</td>\n",
       "      <td>1.555050</td>\n",
       "      <td>-3.0</td>\n",
       "      <td>0.0</td>\n",
       "      <td>0.0</td>\n",
       "      <td>1.00</td>\n",
       "      <td>3.0</td>\n",
       "    </tr>\n",
       "    <tr>\n",
       "      <th>11</th>\n",
       "      <th>5-3-3</th>\n",
       "      <td>24.0</td>\n",
       "      <td>0.708333</td>\n",
       "      <td>1.398109</td>\n",
       "      <td>-3.0</td>\n",
       "      <td>0.0</td>\n",
       "      <td>1.0</td>\n",
       "      <td>1.00</td>\n",
       "      <td>5.0</td>\n",
       "    </tr>\n",
       "    <tr>\n",
       "      <th>13</th>\n",
       "      <th>4-4-3</th>\n",
       "      <td>38.0</td>\n",
       "      <td>0.763158</td>\n",
       "      <td>2.614246</td>\n",
       "      <td>-6.0</td>\n",
       "      <td>0.0</td>\n",
       "      <td>1.0</td>\n",
       "      <td>2.00</td>\n",
       "      <td>8.0</td>\n",
       "    </tr>\n",
       "    <tr>\n",
       "      <th>11</th>\n",
       "      <th>4-4-3</th>\n",
       "      <td>44.0</td>\n",
       "      <td>0.840909</td>\n",
       "      <td>1.940309</td>\n",
       "      <td>-4.0</td>\n",
       "      <td>0.0</td>\n",
       "      <td>1.0</td>\n",
       "      <td>1.00</td>\n",
       "      <td>8.0</td>\n",
       "    </tr>\n",
       "    <tr>\n",
       "      <th rowspan=\"2\" valign=\"top\">22</th>\n",
       "      <th>5-3-3</th>\n",
       "      <td>43.0</td>\n",
       "      <td>1.209302</td>\n",
       "      <td>2.252598</td>\n",
       "      <td>-5.0</td>\n",
       "      <td>0.0</td>\n",
       "      <td>1.0</td>\n",
       "      <td>2.00</td>\n",
       "      <td>8.0</td>\n",
       "    </tr>\n",
       "    <tr>\n",
       "      <th>4-4-3</th>\n",
       "      <td>103.0</td>\n",
       "      <td>1.543689</td>\n",
       "      <td>3.940182</td>\n",
       "      <td>-6.0</td>\n",
       "      <td>0.0</td>\n",
       "      <td>1.0</td>\n",
       "      <td>2.00</td>\n",
       "      <td>30.0</td>\n",
       "    </tr>\n",
       "    <tr>\n",
       "      <th>13</th>\n",
       "      <th>5-3-3</th>\n",
       "      <td>19.0</td>\n",
       "      <td>1.578947</td>\n",
       "      <td>2.479153</td>\n",
       "      <td>-2.0</td>\n",
       "      <td>0.0</td>\n",
       "      <td>1.0</td>\n",
       "      <td>3.50</td>\n",
       "      <td>7.0</td>\n",
       "    </tr>\n",
       "    <tr>\n",
       "      <th>11</th>\n",
       "      <th>5-2-4</th>\n",
       "      <td>15.0</td>\n",
       "      <td>6.066667</td>\n",
       "      <td>7.235495</td>\n",
       "      <td>-1.0</td>\n",
       "      <td>2.5</td>\n",
       "      <td>4.0</td>\n",
       "      <td>7.50</td>\n",
       "      <td>29.0</td>\n",
       "    </tr>\n",
       "    <tr>\n",
       "      <th>10</th>\n",
       "      <th>2-4-5</th>\n",
       "      <td>20.0</td>\n",
       "      <td>8.600000</td>\n",
       "      <td>15.682374</td>\n",
       "      <td>0.0</td>\n",
       "      <td>4.0</td>\n",
       "      <td>5.0</td>\n",
       "      <td>6.25</td>\n",
       "      <td>74.0</td>\n",
       "    </tr>\n",
       "  </tbody>\n",
       "</table>\n",
       "</div>"
      ],
      "text/plain": [
       "                                   count      mean        std  min  25%  50%  \\\n",
       "OffensePersonnel DefensePersonnel                                              \n",
       "12               5-3-3              11.0  0.272727   1.555050 -3.0  0.0  0.0   \n",
       "11               5-3-3              24.0  0.708333   1.398109 -3.0  0.0  1.0   \n",
       "13               4-4-3              38.0  0.763158   2.614246 -6.0  0.0  1.0   \n",
       "11               4-4-3              44.0  0.840909   1.940309 -4.0  0.0  1.0   \n",
       "22               5-3-3              43.0  1.209302   2.252598 -5.0  0.0  1.0   \n",
       "                 4-4-3             103.0  1.543689   3.940182 -6.0  0.0  1.0   \n",
       "13               5-3-3              19.0  1.578947   2.479153 -2.0  0.0  1.0   \n",
       "11               5-2-4              15.0  6.066667   7.235495 -1.0  2.5  4.0   \n",
       "10               2-4-5              20.0  8.600000  15.682374  0.0  4.0  5.0   \n",
       "\n",
       "                                    75%   max  \n",
       "OffensePersonnel DefensePersonnel              \n",
       "12               5-3-3             1.00   3.0  \n",
       "11               5-3-3             1.00   5.0  \n",
       "13               4-4-3             2.00   8.0  \n",
       "11               4-4-3             1.00   8.0  \n",
       "22               5-3-3             2.00   8.0  \n",
       "                 4-4-3             2.00  30.0  \n",
       "13               5-3-3             3.50   7.0  \n",
       "11               5-2-4             7.50  29.0  \n",
       "10               2-4-5             6.25  74.0  "
      ]
     },
     "execution_count": 207,
     "metadata": {},
     "output_type": "execute_result"
    }
   ],
   "source": [
    "personnel[((personnel['mean'] > 6) | (personnel['mean'] < 2)) & (personnel['count'] >10)].sort_values('mean')"
   ]
  },
  {
   "cell_type": "code",
   "execution_count": 72,
   "metadata": {},
   "outputs": [],
   "source": [
    "\n",
    "\n",
    "formation = nfl.groupby(['OffenseFormation', 'DefensePersonnel']).Yards.describe()"
   ]
  },
  {
   "cell_type": "code",
   "execution_count": 212,
   "metadata": {},
   "outputs": [
    {
     "data": {
      "text/html": [
       "<div>\n",
       "<style scoped>\n",
       "    .dataframe tbody tr th:only-of-type {\n",
       "        vertical-align: middle;\n",
       "    }\n",
       "\n",
       "    .dataframe tbody tr th {\n",
       "        vertical-align: top;\n",
       "    }\n",
       "\n",
       "    .dataframe thead th {\n",
       "        text-align: right;\n",
       "    }\n",
       "</style>\n",
       "<table border=\"1\" class=\"dataframe\">\n",
       "  <thead>\n",
       "    <tr style=\"text-align: right;\">\n",
       "      <th></th>\n",
       "      <th></th>\n",
       "      <th>count</th>\n",
       "      <th>mean</th>\n",
       "      <th>std</th>\n",
       "      <th>min</th>\n",
       "      <th>25%</th>\n",
       "      <th>50%</th>\n",
       "      <th>75%</th>\n",
       "      <th>max</th>\n",
       "    </tr>\n",
       "    <tr>\n",
       "      <th>OffenseFormation</th>\n",
       "      <th>DefensePersonnel</th>\n",
       "      <th></th>\n",
       "      <th></th>\n",
       "      <th></th>\n",
       "      <th></th>\n",
       "      <th></th>\n",
       "      <th></th>\n",
       "      <th></th>\n",
       "      <th></th>\n",
       "    </tr>\n",
       "  </thead>\n",
       "  <tbody>\n",
       "    <tr>\n",
       "      <th>I_FORM</th>\n",
       "      <th>4-1-6</th>\n",
       "      <td>12.0</td>\n",
       "      <td>8.000000</td>\n",
       "      <td>10.063435</td>\n",
       "      <td>0.0</td>\n",
       "      <td>1.75</td>\n",
       "      <td>5.0</td>\n",
       "      <td>9.5</td>\n",
       "      <td>36.0</td>\n",
       "    </tr>\n",
       "    <tr>\n",
       "      <th>PISTOL</th>\n",
       "      <th>4-1-6</th>\n",
       "      <td>17.0</td>\n",
       "      <td>6.470588</td>\n",
       "      <td>10.253765</td>\n",
       "      <td>-2.0</td>\n",
       "      <td>2.00</td>\n",
       "      <td>3.0</td>\n",
       "      <td>6.0</td>\n",
       "      <td>43.0</td>\n",
       "    </tr>\n",
       "    <tr>\n",
       "      <th>SINGLEBACK</th>\n",
       "      <th>5-3-3</th>\n",
       "      <td>17.0</td>\n",
       "      <td>1.411765</td>\n",
       "      <td>2.152290</td>\n",
       "      <td>-1.0</td>\n",
       "      <td>0.00</td>\n",
       "      <td>1.0</td>\n",
       "      <td>3.0</td>\n",
       "      <td>8.0</td>\n",
       "    </tr>\n",
       "    <tr>\n",
       "      <th rowspan=\"3\" valign=\"top\">JUMBO</th>\n",
       "      <th>4-2-5</th>\n",
       "      <td>206.0</td>\n",
       "      <td>0.805825</td>\n",
       "      <td>2.083891</td>\n",
       "      <td>-4.0</td>\n",
       "      <td>0.00</td>\n",
       "      <td>1.0</td>\n",
       "      <td>1.0</td>\n",
       "      <td>16.0</td>\n",
       "    </tr>\n",
       "    <tr>\n",
       "      <th>4-4-3</th>\n",
       "      <td>92.0</td>\n",
       "      <td>0.641304</td>\n",
       "      <td>1.884474</td>\n",
       "      <td>-6.0</td>\n",
       "      <td>0.00</td>\n",
       "      <td>1.0</td>\n",
       "      <td>1.0</td>\n",
       "      <td>10.0</td>\n",
       "    </tr>\n",
       "    <tr>\n",
       "      <th>5-3-3</th>\n",
       "      <td>53.0</td>\n",
       "      <td>0.528302</td>\n",
       "      <td>1.264968</td>\n",
       "      <td>-3.0</td>\n",
       "      <td>0.00</td>\n",
       "      <td>1.0</td>\n",
       "      <td>1.0</td>\n",
       "      <td>5.0</td>\n",
       "    </tr>\n",
       "  </tbody>\n",
       "</table>\n",
       "</div>"
      ],
      "text/plain": [
       "                                   count      mean        std  min   25%  50%  \\\n",
       "OffenseFormation DefensePersonnel                                               \n",
       "I_FORM           4-1-6              12.0  8.000000  10.063435  0.0  1.75  5.0   \n",
       "PISTOL           4-1-6              17.0  6.470588  10.253765 -2.0  2.00  3.0   \n",
       "SINGLEBACK       5-3-3              17.0  1.411765   2.152290 -1.0  0.00  1.0   \n",
       "JUMBO            4-2-5             206.0  0.805825   2.083891 -4.0  0.00  1.0   \n",
       "                 4-4-3              92.0  0.641304   1.884474 -6.0  0.00  1.0   \n",
       "                 5-3-3              53.0  0.528302   1.264968 -3.0  0.00  1.0   \n",
       "\n",
       "                                   75%   max  \n",
       "OffenseFormation DefensePersonnel             \n",
       "I_FORM           4-1-6             9.5  36.0  \n",
       "PISTOL           4-1-6             6.0  43.0  \n",
       "SINGLEBACK       5-3-3             3.0   8.0  \n",
       "JUMBO            4-2-5             1.0  16.0  \n",
       "                 4-4-3             1.0  10.0  \n",
       "                 5-3-3             1.0   5.0  "
      ]
     },
     "execution_count": 212,
     "metadata": {},
     "output_type": "execute_result"
    }
   ],
   "source": [
    "formation[((formation['mean'] > 6) | (formation['mean'] < 2)) & (formation['count'] >10)].sort_values('mean', ascending=False)"
   ]
  },
  {
   "cell_type": "markdown",
   "metadata": {},
   "source": [
    "The above dataframe groups by offense formation and defense personnel and filters for combinations when the resulting average play results in either a gain of 6 yards or a gain of under two yards. This information could be used by a coaching staff to evaluate play calling. For instance, if you are an offensive coordinator and you see the defense in a 4-1-6 personnel group, it would make sense to call a play putting the offense in either i-formation or pistol. "
   ]
  },
  {
   "cell_type": "code",
   "execution_count": 65,
   "metadata": {},
   "outputs": [
    {
     "data": {
      "text/html": [
       "<div>\n",
       "<style scoped>\n",
       "    .dataframe tbody tr th:only-of-type {\n",
       "        vertical-align: middle;\n",
       "    }\n",
       "\n",
       "    .dataframe tbody tr th {\n",
       "        vertical-align: top;\n",
       "    }\n",
       "\n",
       "    .dataframe thead th {\n",
       "        text-align: right;\n",
       "    }\n",
       "</style>\n",
       "<table border=\"1\" class=\"dataframe\">\n",
       "  <thead>\n",
       "    <tr style=\"text-align: right;\">\n",
       "      <th></th>\n",
       "      <th>count</th>\n",
       "      <th>mean</th>\n",
       "      <th>std</th>\n",
       "      <th>min</th>\n",
       "      <th>25%</th>\n",
       "      <th>50%</th>\n",
       "      <th>75%</th>\n",
       "      <th>max</th>\n",
       "    </tr>\n",
       "    <tr>\n",
       "      <th>Turf</th>\n",
       "      <th></th>\n",
       "      <th></th>\n",
       "      <th></th>\n",
       "      <th></th>\n",
       "      <th></th>\n",
       "      <th></th>\n",
       "      <th></th>\n",
       "      <th></th>\n",
       "    </tr>\n",
       "  </thead>\n",
       "  <tbody>\n",
       "    <tr>\n",
       "      <th>Artificial</th>\n",
       "      <td>10340.0</td>\n",
       "      <td>4.234720</td>\n",
       "      <td>6.481631</td>\n",
       "      <td>-12.0</td>\n",
       "      <td>1.0</td>\n",
       "      <td>3.0</td>\n",
       "      <td>6.0</td>\n",
       "      <td>97.0</td>\n",
       "    </tr>\n",
       "    <tr>\n",
       "      <th>Natural</th>\n",
       "      <td>12831.0</td>\n",
       "      <td>4.194295</td>\n",
       "      <td>6.399731</td>\n",
       "      <td>-14.0</td>\n",
       "      <td>1.0</td>\n",
       "      <td>3.0</td>\n",
       "      <td>6.0</td>\n",
       "      <td>99.0</td>\n",
       "    </tr>\n",
       "  </tbody>\n",
       "</table>\n",
       "</div>"
      ],
      "text/plain": [
       "              count      mean       std   min  25%  50%  75%   max\n",
       "Turf                                                              \n",
       "Artificial  10340.0  4.234720  6.481631 -12.0  1.0  3.0  6.0  97.0\n",
       "Natural     12831.0  4.194295  6.399731 -14.0  1.0  3.0  6.0  99.0"
      ]
     },
     "execution_count": 65,
     "metadata": {},
     "output_type": "execute_result"
    }
   ],
   "source": [
    "nfl.groupby('Turf').Yards.describe()\n",
    "#Average yards gained is about the same on artificial turf versus grass. "
   ]
  },
  {
   "cell_type": "code",
   "execution_count": null,
   "metadata": {},
   "outputs": [],
   "source": []
  },
  {
   "cell_type": "markdown",
   "metadata": {},
   "source": [
    "# Feature Engineering and data prepping for modeling"
   ]
  },
  {
   "cell_type": "code",
   "execution_count": 76,
   "metadata": {},
   "outputs": [],
   "source": [
    "nfl['yards_remaining_to_first'] = nfl['Distance'] - nfl['Yards']"
   ]
  },
  {
   "cell_type": "code",
   "execution_count": 78,
   "metadata": {},
   "outputs": [],
   "source": [
    "def first_down(col):\n",
    "    if col > 0:\n",
    "        return 0\n",
    "    else:\n",
    "        return 1"
   ]
  },
  {
   "cell_type": "markdown",
   "metadata": {},
   "source": [
    "Creating a new column to show whether the result of the play was a first down. A value of 1 indidicates that the play resulted in first down. "
   ]
  },
  {
   "cell_type": "code",
   "execution_count": 79,
   "metadata": {},
   "outputs": [],
   "source": [
    "nfl['first_down'] = nfl['yards_remaining_to_first'].apply(first_down) "
   ]
  },
  {
   "cell_type": "code",
   "execution_count": 80,
   "metadata": {},
   "outputs": [],
   "source": [
    "nfl['Team'] = nfl['Team'].map({'home':1, 'away': -1})\n",
    "#Changing to numeric value to be able to calculate whether team is winning or losing."
   ]
  },
  {
   "cell_type": "code",
   "execution_count": 81,
   "metadata": {},
   "outputs": [
    {
     "data": {
      "text/html": [
       "<div>\n",
       "<style scoped>\n",
       "    .dataframe tbody tr th:only-of-type {\n",
       "        vertical-align: middle;\n",
       "    }\n",
       "\n",
       "    .dataframe tbody tr th {\n",
       "        vertical-align: top;\n",
       "    }\n",
       "\n",
       "    .dataframe thead th {\n",
       "        text-align: right;\n",
       "    }\n",
       "</style>\n",
       "<table border=\"1\" class=\"dataframe\">\n",
       "  <thead>\n",
       "    <tr style=\"text-align: right;\">\n",
       "      <th></th>\n",
       "      <th>Team</th>\n",
       "      <th>S</th>\n",
       "      <th>A</th>\n",
       "      <th>Dis</th>\n",
       "      <th>NflId</th>\n",
       "      <th>DisplayName</th>\n",
       "      <th>JerseyNumber</th>\n",
       "      <th>Season</th>\n",
       "      <th>YardLine</th>\n",
       "      <th>Quarter</th>\n",
       "      <th>...</th>\n",
       "      <th>VisitorTeamAbbr</th>\n",
       "      <th>Week</th>\n",
       "      <th>Stadium</th>\n",
       "      <th>Location</th>\n",
       "      <th>Turf</th>\n",
       "      <th>Temperature</th>\n",
       "      <th>Humidity</th>\n",
       "      <th>home_team_lead</th>\n",
       "      <th>yards_remaining_to_first</th>\n",
       "      <th>first_down</th>\n",
       "    </tr>\n",
       "  </thead>\n",
       "  <tbody>\n",
       "    <tr>\n",
       "      <th>18</th>\n",
       "      <td>1</td>\n",
       "      <td>3.63</td>\n",
       "      <td>3.35</td>\n",
       "      <td>0.38</td>\n",
       "      <td>2543773</td>\n",
       "      <td>James White</td>\n",
       "      <td>28</td>\n",
       "      <td>2017</td>\n",
       "      <td>35</td>\n",
       "      <td>1</td>\n",
       "      <td>...</td>\n",
       "      <td>KC</td>\n",
       "      <td>1</td>\n",
       "      <td>Gillette Stadium</td>\n",
       "      <td>Foxborough, MA</td>\n",
       "      <td>Artificial</td>\n",
       "      <td>63.0</td>\n",
       "      <td>77.0</td>\n",
       "      <td>0</td>\n",
       "      <td>-6</td>\n",
       "      <td>1</td>\n",
       "    </tr>\n",
       "    <tr>\n",
       "      <th>40</th>\n",
       "      <td>1</td>\n",
       "      <td>3.06</td>\n",
       "      <td>2.41</td>\n",
       "      <td>0.34</td>\n",
       "      <td>2543773</td>\n",
       "      <td>James White</td>\n",
       "      <td>28</td>\n",
       "      <td>2017</td>\n",
       "      <td>43</td>\n",
       "      <td>1</td>\n",
       "      <td>...</td>\n",
       "      <td>KC</td>\n",
       "      <td>1</td>\n",
       "      <td>Gillette Stadium</td>\n",
       "      <td>Foxborough, MA</td>\n",
       "      <td>Artificial</td>\n",
       "      <td>63.0</td>\n",
       "      <td>77.0</td>\n",
       "      <td>0</td>\n",
       "      <td>7</td>\n",
       "      <td>0</td>\n",
       "    </tr>\n",
       "    <tr>\n",
       "      <th>62</th>\n",
       "      <td>1</td>\n",
       "      <td>5.77</td>\n",
       "      <td>2.42</td>\n",
       "      <td>0.60</td>\n",
       "      <td>2543773</td>\n",
       "      <td>James White</td>\n",
       "      <td>28</td>\n",
       "      <td>2017</td>\n",
       "      <td>35</td>\n",
       "      <td>1</td>\n",
       "      <td>...</td>\n",
       "      <td>KC</td>\n",
       "      <td>1</td>\n",
       "      <td>Gillette Stadium</td>\n",
       "      <td>Foxborough, MA</td>\n",
       "      <td>Artificial</td>\n",
       "      <td>63.0</td>\n",
       "      <td>77.0</td>\n",
       "      <td>0</td>\n",
       "      <td>5</td>\n",
       "      <td>0</td>\n",
       "    </tr>\n",
       "    <tr>\n",
       "      <th>84</th>\n",
       "      <td>1</td>\n",
       "      <td>4.45</td>\n",
       "      <td>3.20</td>\n",
       "      <td>0.46</td>\n",
       "      <td>2539663</td>\n",
       "      <td>Mike Gillislee</td>\n",
       "      <td>35</td>\n",
       "      <td>2017</td>\n",
       "      <td>2</td>\n",
       "      <td>1</td>\n",
       "      <td>...</td>\n",
       "      <td>KC</td>\n",
       "      <td>1</td>\n",
       "      <td>Gillette Stadium</td>\n",
       "      <td>Foxborough, MA</td>\n",
       "      <td>Artificial</td>\n",
       "      <td>63.0</td>\n",
       "      <td>77.0</td>\n",
       "      <td>0</td>\n",
       "      <td>0</td>\n",
       "      <td>1</td>\n",
       "    </tr>\n",
       "    <tr>\n",
       "      <th>98</th>\n",
       "      <td>-1</td>\n",
       "      <td>3.90</td>\n",
       "      <td>2.53</td>\n",
       "      <td>0.44</td>\n",
       "      <td>2557917</td>\n",
       "      <td>Kareem Hunt</td>\n",
       "      <td>27</td>\n",
       "      <td>2017</td>\n",
       "      <td>25</td>\n",
       "      <td>1</td>\n",
       "      <td>...</td>\n",
       "      <td>KC</td>\n",
       "      <td>1</td>\n",
       "      <td>Gillette Stadium</td>\n",
       "      <td>Foxborough, MA</td>\n",
       "      <td>Artificial</td>\n",
       "      <td>63.0</td>\n",
       "      <td>77.0</td>\n",
       "      <td>7</td>\n",
       "      <td>3</td>\n",
       "      <td>0</td>\n",
       "    </tr>\n",
       "  </tbody>\n",
       "</table>\n",
       "<p>5 rows × 37 columns</p>\n",
       "</div>"
      ],
      "text/plain": [
       "    Team     S     A   Dis    NflId     DisplayName  JerseyNumber  Season  \\\n",
       "18     1  3.63  3.35  0.38  2543773     James White            28    2017   \n",
       "40     1  3.06  2.41  0.34  2543773     James White            28    2017   \n",
       "62     1  5.77  2.42  0.60  2543773     James White            28    2017   \n",
       "84     1  4.45  3.20  0.46  2539663  Mike Gillislee            35    2017   \n",
       "98    -1  3.90  2.53  0.44  2557917     Kareem Hunt            27    2017   \n",
       "\n",
       "    YardLine  Quarter     ...     VisitorTeamAbbr Week           Stadium  \\\n",
       "18        35        1     ...                  KC    1  Gillette Stadium   \n",
       "40        43        1     ...                  KC    1  Gillette Stadium   \n",
       "62        35        1     ...                  KC    1  Gillette Stadium   \n",
       "84         2        1     ...                  KC    1  Gillette Stadium   \n",
       "98        25        1     ...                  KC    1  Gillette Stadium   \n",
       "\n",
       "          Location        Turf  Temperature  Humidity home_team_lead  \\\n",
       "18  Foxborough, MA  Artificial         63.0      77.0              0   \n",
       "40  Foxborough, MA  Artificial         63.0      77.0              0   \n",
       "62  Foxborough, MA  Artificial         63.0      77.0              0   \n",
       "84  Foxborough, MA  Artificial         63.0      77.0              0   \n",
       "98  Foxborough, MA  Artificial         63.0      77.0              7   \n",
       "\n",
       "   yards_remaining_to_first  first_down  \n",
       "18                       -6           1  \n",
       "40                        7           0  \n",
       "62                        5           0  \n",
       "84                        0           1  \n",
       "98                        3           0  \n",
       "\n",
       "[5 rows x 37 columns]"
      ]
     },
     "execution_count": 81,
     "metadata": {},
     "output_type": "execute_result"
    }
   ],
   "source": [
    "nfl.head()"
   ]
  },
  {
   "cell_type": "code",
   "execution_count": 82,
   "metadata": {},
   "outputs": [],
   "source": [
    "nfl['score_diff'] = nfl['home_team_lead'] * nfl['Team'] \n",
    "#Created new feature to indicate whether ball carrier's team is winning or losing. \n",
    "#Positive number means team is ahead. "
   ]
  },
  {
   "cell_type": "markdown",
   "metadata": {},
   "source": [
    "Created new feature to indicate whether ball carrier's team is winning or losing. \n",
    "Positive number means team is ahead. "
   ]
  },
  {
   "cell_type": "code",
   "execution_count": 83,
   "metadata": {},
   "outputs": [
    {
     "data": {
      "text/plain": [
       "Index(['Team', 'S', 'A', 'Dis', 'NflId', 'DisplayName', 'JerseyNumber',\n",
       "       'Season', 'YardLine', 'Quarter', 'GameClock', 'PossessionTeam', 'Down',\n",
       "       'Distance', 'HomeScoreBeforePlay', 'VisitorScoreBeforePlay',\n",
       "       'NflIdRusher', 'OffenseFormation', 'OffensePersonnel',\n",
       "       'DefendersInTheBox', 'DefensePersonnel', 'PlayDirection', 'Yards',\n",
       "       'PlayerHeight', 'PlayerWeight', 'Position', 'HomeTeamAbbr',\n",
       "       'VisitorTeamAbbr', 'Week', 'Stadium', 'Location', 'Turf', 'Temperature',\n",
       "       'Humidity', 'home_team_lead', 'yards_remaining_to_first', 'first_down',\n",
       "       'score_diff'],\n",
       "      dtype='object')"
      ]
     },
     "execution_count": 83,
     "metadata": {},
     "output_type": "execute_result"
    }
   ],
   "source": [
    "nfl.columns"
   ]
  },
  {
   "cell_type": "code",
   "execution_count": 84,
   "metadata": {},
   "outputs": [],
   "source": [
    "nfl.drop(['yards_remaining_to_first', 'home_team_lead'], axis=1, inplace=True)"
   ]
  },
  {
   "cell_type": "markdown",
   "metadata": {},
   "source": [
    "To prepare for modeling, I am creating dummy variable dataframe for the categorical variables"
   ]
  },
  {
   "cell_type": "code",
   "execution_count": 86,
   "metadata": {},
   "outputs": [
    {
     "data": {
      "text/plain": [
       "18    11\n",
       "40    11\n",
       "62    11\n",
       "84    22\n",
       "98    13\n",
       "Name: OffensePersonnel, dtype: object"
      ]
     },
     "execution_count": 86,
     "metadata": {},
     "output_type": "execute_result"
    }
   ],
   "source": [
    "nfl.OffensePersonnel.head()"
   ]
  },
  {
   "cell_type": "code",
   "execution_count": 87,
   "metadata": {},
   "outputs": [],
   "source": [
    "off_pers = pd.get_dummies(nfl['OffensePersonnel'], prefix= 'OP')"
   ]
  },
  {
   "cell_type": "code",
   "execution_count": 88,
   "metadata": {},
   "outputs": [],
   "source": [
    "off_form = pd.get_dummies(nfl['OffenseFormation'], prefix= 'OF')"
   ]
  },
  {
   "cell_type": "code",
   "execution_count": 89,
   "metadata": {},
   "outputs": [],
   "source": [
    "defen_pers = pd.get_dummies(nfl['DefensePersonnel'], prefix= 'DP')"
   ]
  },
  {
   "cell_type": "code",
   "execution_count": 90,
   "metadata": {},
   "outputs": [],
   "source": [
    "down = pd.get_dummies(nfl['Down'], prefix= 'Down')"
   ]
  },
  {
   "cell_type": "code",
   "execution_count": 91,
   "metadata": {},
   "outputs": [],
   "source": [
    "quarter = pd.get_dummies(nfl['Quarter'], prefix ='Quarter')"
   ]
  },
  {
   "cell_type": "code",
   "execution_count": 92,
   "metadata": {},
   "outputs": [
    {
     "data": {
      "text/plain": [
       "Index(['Team', 'S', 'A', 'Dis', 'NflId', 'DisplayName', 'JerseyNumber',\n",
       "       'Season', 'YardLine', 'Quarter', 'GameClock', 'PossessionTeam', 'Down',\n",
       "       'Distance', 'HomeScoreBeforePlay', 'VisitorScoreBeforePlay',\n",
       "       'NflIdRusher', 'OffenseFormation', 'OffensePersonnel',\n",
       "       'DefendersInTheBox', 'DefensePersonnel', 'PlayDirection', 'Yards',\n",
       "       'PlayerHeight', 'PlayerWeight', 'Position', 'HomeTeamAbbr',\n",
       "       'VisitorTeamAbbr', 'Week', 'Stadium', 'Location', 'Turf', 'Temperature',\n",
       "       'Humidity', 'first_down', 'score_diff'],\n",
       "      dtype='object')"
      ]
     },
     "execution_count": 92,
     "metadata": {},
     "output_type": "execute_result"
    }
   ],
   "source": [
    "nfl.columns"
   ]
  },
  {
   "cell_type": "code",
   "execution_count": 93,
   "metadata": {},
   "outputs": [],
   "source": [
    "nfl_model = nfl[['Yards','S', 'A', 'Dis', 'Distance', 'DefendersInTheBox', 'PlayerWeight', 'first_down', 'score_diff']]"
   ]
  },
  {
   "cell_type": "code",
   "execution_count": 94,
   "metadata": {},
   "outputs": [
    {
     "data": {
      "text/html": [
       "<div>\n",
       "<style scoped>\n",
       "    .dataframe tbody tr th:only-of-type {\n",
       "        vertical-align: middle;\n",
       "    }\n",
       "\n",
       "    .dataframe tbody tr th {\n",
       "        vertical-align: top;\n",
       "    }\n",
       "\n",
       "    .dataframe thead th {\n",
       "        text-align: right;\n",
       "    }\n",
       "</style>\n",
       "<table border=\"1\" class=\"dataframe\">\n",
       "  <thead>\n",
       "    <tr style=\"text-align: right;\">\n",
       "      <th></th>\n",
       "      <th>Yards</th>\n",
       "      <th>S</th>\n",
       "      <th>A</th>\n",
       "      <th>Dis</th>\n",
       "      <th>Distance</th>\n",
       "      <th>DefendersInTheBox</th>\n",
       "      <th>PlayerWeight</th>\n",
       "      <th>first_down</th>\n",
       "      <th>score_diff</th>\n",
       "    </tr>\n",
       "  </thead>\n",
       "  <tbody>\n",
       "    <tr>\n",
       "      <th>18</th>\n",
       "      <td>8</td>\n",
       "      <td>3.63</td>\n",
       "      <td>3.35</td>\n",
       "      <td>0.38</td>\n",
       "      <td>2</td>\n",
       "      <td>6.0</td>\n",
       "      <td>205</td>\n",
       "      <td>1</td>\n",
       "      <td>0</td>\n",
       "    </tr>\n",
       "    <tr>\n",
       "      <th>40</th>\n",
       "      <td>3</td>\n",
       "      <td>3.06</td>\n",
       "      <td>2.41</td>\n",
       "      <td>0.34</td>\n",
       "      <td>10</td>\n",
       "      <td>6.0</td>\n",
       "      <td>205</td>\n",
       "      <td>0</td>\n",
       "      <td>0</td>\n",
       "    </tr>\n",
       "    <tr>\n",
       "      <th>62</th>\n",
       "      <td>5</td>\n",
       "      <td>5.77</td>\n",
       "      <td>2.42</td>\n",
       "      <td>0.60</td>\n",
       "      <td>10</td>\n",
       "      <td>7.0</td>\n",
       "      <td>205</td>\n",
       "      <td>0</td>\n",
       "      <td>0</td>\n",
       "    </tr>\n",
       "    <tr>\n",
       "      <th>84</th>\n",
       "      <td>2</td>\n",
       "      <td>4.45</td>\n",
       "      <td>3.20</td>\n",
       "      <td>0.46</td>\n",
       "      <td>2</td>\n",
       "      <td>9.0</td>\n",
       "      <td>210</td>\n",
       "      <td>1</td>\n",
       "      <td>0</td>\n",
       "    </tr>\n",
       "    <tr>\n",
       "      <th>98</th>\n",
       "      <td>7</td>\n",
       "      <td>3.90</td>\n",
       "      <td>2.53</td>\n",
       "      <td>0.44</td>\n",
       "      <td>10</td>\n",
       "      <td>7.0</td>\n",
       "      <td>216</td>\n",
       "      <td>0</td>\n",
       "      <td>-7</td>\n",
       "    </tr>\n",
       "  </tbody>\n",
       "</table>\n",
       "</div>"
      ],
      "text/plain": [
       "    Yards     S     A   Dis  Distance  DefendersInTheBox  PlayerWeight  \\\n",
       "18      8  3.63  3.35  0.38         2                6.0           205   \n",
       "40      3  3.06  2.41  0.34        10                6.0           205   \n",
       "62      5  5.77  2.42  0.60        10                7.0           205   \n",
       "84      2  4.45  3.20  0.46         2                9.0           210   \n",
       "98      7  3.90  2.53  0.44        10                7.0           216   \n",
       "\n",
       "    first_down  score_diff  \n",
       "18           1           0  \n",
       "40           0           0  \n",
       "62           0           0  \n",
       "84           1           0  \n",
       "98           0          -7  "
      ]
     },
     "execution_count": 94,
     "metadata": {},
     "output_type": "execute_result"
    }
   ],
   "source": [
    "nfl_model.head()"
   ]
  },
  {
   "cell_type": "code",
   "execution_count": 95,
   "metadata": {},
   "outputs": [],
   "source": [
    "nfl_model = pd.concat([nfl_model, off_pers], axis=1)"
   ]
  },
  {
   "cell_type": "code",
   "execution_count": 96,
   "metadata": {},
   "outputs": [],
   "source": [
    "nfl_model = pd.concat([nfl_model, off_form], axis=1)"
   ]
  },
  {
   "cell_type": "code",
   "execution_count": 97,
   "metadata": {},
   "outputs": [],
   "source": [
    "nfl_model = pd.concat([nfl_model, defen_pers], axis=1)"
   ]
  },
  {
   "cell_type": "code",
   "execution_count": 98,
   "metadata": {},
   "outputs": [],
   "source": [
    "nfl_model = pd.concat([nfl_model, down], axis=1)"
   ]
  },
  {
   "cell_type": "code",
   "execution_count": 99,
   "metadata": {},
   "outputs": [],
   "source": [
    "nfl_model = pd.concat([nfl_model, quarter], axis=1)"
   ]
  },
  {
   "cell_type": "code",
   "execution_count": 100,
   "metadata": {},
   "outputs": [
    {
     "data": {
      "text/plain": [
       "Index(['Yards', 'S', 'A', 'Dis', 'Distance', 'DefendersInTheBox',\n",
       "       'PlayerWeight', 'first_down', 'score_diff', 'OP_01', 'OP_10', 'OP_11',\n",
       "       'OP_12', 'OP_13', 'OP_20', 'OP_21', 'OP_22', 'OP_30', 'OF_ACE',\n",
       "       'OF_EMPTY', 'OF_I_FORM', 'OF_JUMBO', 'OF_PISTOL', 'OF_SHOTGUN',\n",
       "       'OF_SINGLEBACK', 'OF_WILDCAT', 'DP_2-3-6', 'DP_2-4-5', 'DP_3-2-6',\n",
       "       'DP_3-3-5', 'DP_3-4-4', 'DP_4-1-6', 'DP_4-2-5', 'DP_4-3-4', 'DP_4-4-3',\n",
       "       'DP_5-2-4', 'DP_5-3-3', 'Down_1', 'Down_2', 'Down_3', 'Down_4',\n",
       "       'Quarter_1', 'Quarter_2', 'Quarter_3', 'Quarter_4', 'Quarter_5'],\n",
       "      dtype='object')"
      ]
     },
     "execution_count": 100,
     "metadata": {},
     "output_type": "execute_result"
    }
   ],
   "source": [
    "nfl_model.columns"
   ]
  },
  {
   "cell_type": "code",
   "execution_count": 101,
   "metadata": {},
   "outputs": [
    {
     "data": {
      "text/html": [
       "<div>\n",
       "<style scoped>\n",
       "    .dataframe tbody tr th:only-of-type {\n",
       "        vertical-align: middle;\n",
       "    }\n",
       "\n",
       "    .dataframe tbody tr th {\n",
       "        vertical-align: top;\n",
       "    }\n",
       "\n",
       "    .dataframe thead th {\n",
       "        text-align: right;\n",
       "    }\n",
       "</style>\n",
       "<table border=\"1\" class=\"dataframe\">\n",
       "  <thead>\n",
       "    <tr style=\"text-align: right;\">\n",
       "      <th></th>\n",
       "      <th>Yards</th>\n",
       "      <th>S</th>\n",
       "      <th>A</th>\n",
       "      <th>Dis</th>\n",
       "      <th>Distance</th>\n",
       "      <th>DefendersInTheBox</th>\n",
       "      <th>PlayerWeight</th>\n",
       "      <th>first_down</th>\n",
       "      <th>score_diff</th>\n",
       "      <th>OP_01</th>\n",
       "      <th>...</th>\n",
       "      <th>DP_5-3-3</th>\n",
       "      <th>Down_1</th>\n",
       "      <th>Down_2</th>\n",
       "      <th>Down_3</th>\n",
       "      <th>Down_4</th>\n",
       "      <th>Quarter_1</th>\n",
       "      <th>Quarter_2</th>\n",
       "      <th>Quarter_3</th>\n",
       "      <th>Quarter_4</th>\n",
       "      <th>Quarter_5</th>\n",
       "    </tr>\n",
       "  </thead>\n",
       "  <tbody>\n",
       "    <tr>\n",
       "      <th>18</th>\n",
       "      <td>8</td>\n",
       "      <td>3.63</td>\n",
       "      <td>3.35</td>\n",
       "      <td>0.38</td>\n",
       "      <td>2</td>\n",
       "      <td>6.0</td>\n",
       "      <td>205</td>\n",
       "      <td>1</td>\n",
       "      <td>0</td>\n",
       "      <td>0</td>\n",
       "      <td>...</td>\n",
       "      <td>0</td>\n",
       "      <td>0</td>\n",
       "      <td>0</td>\n",
       "      <td>1</td>\n",
       "      <td>0</td>\n",
       "      <td>1</td>\n",
       "      <td>0</td>\n",
       "      <td>0</td>\n",
       "      <td>0</td>\n",
       "      <td>0</td>\n",
       "    </tr>\n",
       "    <tr>\n",
       "      <th>40</th>\n",
       "      <td>3</td>\n",
       "      <td>3.06</td>\n",
       "      <td>2.41</td>\n",
       "      <td>0.34</td>\n",
       "      <td>10</td>\n",
       "      <td>6.0</td>\n",
       "      <td>205</td>\n",
       "      <td>0</td>\n",
       "      <td>0</td>\n",
       "      <td>0</td>\n",
       "      <td>...</td>\n",
       "      <td>0</td>\n",
       "      <td>1</td>\n",
       "      <td>0</td>\n",
       "      <td>0</td>\n",
       "      <td>0</td>\n",
       "      <td>1</td>\n",
       "      <td>0</td>\n",
       "      <td>0</td>\n",
       "      <td>0</td>\n",
       "      <td>0</td>\n",
       "    </tr>\n",
       "    <tr>\n",
       "      <th>62</th>\n",
       "      <td>5</td>\n",
       "      <td>5.77</td>\n",
       "      <td>2.42</td>\n",
       "      <td>0.60</td>\n",
       "      <td>10</td>\n",
       "      <td>7.0</td>\n",
       "      <td>205</td>\n",
       "      <td>0</td>\n",
       "      <td>0</td>\n",
       "      <td>0</td>\n",
       "      <td>...</td>\n",
       "      <td>0</td>\n",
       "      <td>1</td>\n",
       "      <td>0</td>\n",
       "      <td>0</td>\n",
       "      <td>0</td>\n",
       "      <td>1</td>\n",
       "      <td>0</td>\n",
       "      <td>0</td>\n",
       "      <td>0</td>\n",
       "      <td>0</td>\n",
       "    </tr>\n",
       "    <tr>\n",
       "      <th>84</th>\n",
       "      <td>2</td>\n",
       "      <td>4.45</td>\n",
       "      <td>3.20</td>\n",
       "      <td>0.46</td>\n",
       "      <td>2</td>\n",
       "      <td>9.0</td>\n",
       "      <td>210</td>\n",
       "      <td>1</td>\n",
       "      <td>0</td>\n",
       "      <td>0</td>\n",
       "      <td>...</td>\n",
       "      <td>0</td>\n",
       "      <td>0</td>\n",
       "      <td>1</td>\n",
       "      <td>0</td>\n",
       "      <td>0</td>\n",
       "      <td>1</td>\n",
       "      <td>0</td>\n",
       "      <td>0</td>\n",
       "      <td>0</td>\n",
       "      <td>0</td>\n",
       "    </tr>\n",
       "    <tr>\n",
       "      <th>98</th>\n",
       "      <td>7</td>\n",
       "      <td>3.90</td>\n",
       "      <td>2.53</td>\n",
       "      <td>0.44</td>\n",
       "      <td>10</td>\n",
       "      <td>7.0</td>\n",
       "      <td>216</td>\n",
       "      <td>0</td>\n",
       "      <td>-7</td>\n",
       "      <td>0</td>\n",
       "      <td>...</td>\n",
       "      <td>0</td>\n",
       "      <td>1</td>\n",
       "      <td>0</td>\n",
       "      <td>0</td>\n",
       "      <td>0</td>\n",
       "      <td>1</td>\n",
       "      <td>0</td>\n",
       "      <td>0</td>\n",
       "      <td>0</td>\n",
       "      <td>0</td>\n",
       "    </tr>\n",
       "  </tbody>\n",
       "</table>\n",
       "<p>5 rows × 46 columns</p>\n",
       "</div>"
      ],
      "text/plain": [
       "    Yards     S     A   Dis  Distance  DefendersInTheBox  PlayerWeight  \\\n",
       "18      8  3.63  3.35  0.38         2                6.0           205   \n",
       "40      3  3.06  2.41  0.34        10                6.0           205   \n",
       "62      5  5.77  2.42  0.60        10                7.0           205   \n",
       "84      2  4.45  3.20  0.46         2                9.0           210   \n",
       "98      7  3.90  2.53  0.44        10                7.0           216   \n",
       "\n",
       "    first_down  score_diff  OP_01    ...      DP_5-3-3  Down_1  Down_2  \\\n",
       "18           1           0      0    ...             0       0       0   \n",
       "40           0           0      0    ...             0       1       0   \n",
       "62           0           0      0    ...             0       1       0   \n",
       "84           1           0      0    ...             0       0       1   \n",
       "98           0          -7      0    ...             0       1       0   \n",
       "\n",
       "    Down_3  Down_4  Quarter_1  Quarter_2  Quarter_3  Quarter_4  Quarter_5  \n",
       "18       1       0          1          0          0          0          0  \n",
       "40       0       0          1          0          0          0          0  \n",
       "62       0       0          1          0          0          0          0  \n",
       "84       0       0          1          0          0          0          0  \n",
       "98       0       0          1          0          0          0          0  \n",
       "\n",
       "[5 rows x 46 columns]"
      ]
     },
     "execution_count": 101,
     "metadata": {},
     "output_type": "execute_result"
    }
   ],
   "source": [
    "nfl_model.head()"
   ]
  },
  {
   "cell_type": "code",
   "execution_count": 103,
   "metadata": {},
   "outputs": [],
   "source": [
    "from sklearn.ensemble import RandomForestClassifier\n",
    "from sklearn.linear_model import LogisticRegression\n",
    "from sklearn.model_selection import train_test_split\n",
    "from sklearn import metrics\n",
    "from sklearn.model_selection import cross_val_score\n",
    "\n",
    "\n",
    "\n",
    "features = ['S', 'A', 'Dis', 'Distance', 'DefendersInTheBox',\n",
    "       'PlayerWeight', 'score_diff',\n",
    "       'OP_01', 'OP_10', 'OP_11', 'OP_12', 'OP_13', 'OP_20', 'OP_21', 'OP_22',\n",
    "       'OP_30', 'OF_ACE', 'OF_EMPTY', 'OF_I_FORM', 'OF_JUMBO', 'OF_PISTOL',\n",
    "       'OF_SHOTGUN', 'OF_SINGLEBACK', 'OF_WILDCAT', 'DP_2-3-6', 'DP_2-4-5',\n",
    "       'DP_3-2-6', 'DP_3-3-5', 'DP_3-4-4', 'DP_4-1-6', 'DP_4-2-5', 'DP_4-3-4',\n",
    "       'DP_4-4-3', 'DP_5-2-4', 'DP_5-3-3', 'Down_1', 'Down_2', 'Down_3',\n",
    "       'Down_4', 'Quarter_1', 'Quarter_2', 'Quarter_3', 'Quarter_4',\n",
    "       'Quarter_5']\n",
    "\n"
   ]
  },
  {
   "cell_type": "code",
   "execution_count": 104,
   "metadata": {},
   "outputs": [],
   "source": [
    "X_log = nfl_model[features] \n",
    "\n",
    "y_log= nfl_model['first_down']"
   ]
  },
  {
   "cell_type": "code",
   "execution_count": 107,
   "metadata": {},
   "outputs": [],
   "source": [
    "\n",
    "\n",
    "logreg = LogisticRegression()\n",
    "\n"
   ]
  },
  {
   "cell_type": "code",
   "execution_count": 108,
   "metadata": {},
   "outputs": [],
   "source": [
    "X_train_log, X_test_log, y_train_log, y_test_log = train_test_split(X_log, y_log, random_state= 99)"
   ]
  },
  {
   "cell_type": "code",
   "execution_count": 109,
   "metadata": {},
   "outputs": [
    {
     "name": "stderr",
     "output_type": "stream",
     "text": [
      "/Users/wmchale/anaconda3/lib/python3.7/site-packages/sklearn/linear_model/logistic.py:433: FutureWarning: Default solver will be changed to 'lbfgs' in 0.22. Specify a solver to silence this warning.\n",
      "  FutureWarning)\n"
     ]
    }
   ],
   "source": [
    "logreg.fit(X_train_log, y_train_log)\n",
    "\n",
    "preds_log = logreg.predict(X_test_log)"
   ]
  },
  {
   "cell_type": "code",
   "execution_count": 111,
   "metadata": {},
   "outputs": [
    {
     "name": "stdout",
     "output_type": "stream",
     "text": [
      "0.8211634731572588\n"
     ]
    }
   ],
   "source": [
    "from sklearn.metrics import accuracy_score\n",
    "\n",
    "\n",
    "score = accuracy_score(preds_log, y_test_log)\n",
    "print(score)\n"
   ]
  },
  {
   "cell_type": "code",
   "execution_count": 112,
   "metadata": {},
   "outputs": [
    {
     "data": {
      "text/plain": [
       "0    18271\n",
       "1     4900\n",
       "Name: first_down, dtype: int64"
      ]
     },
     "execution_count": 112,
     "metadata": {},
     "output_type": "execute_result"
    }
   ],
   "source": [
    "nfl_model.first_down.value_counts()"
   ]
  },
  {
   "cell_type": "code",
   "execution_count": 113,
   "metadata": {},
   "outputs": [
    {
     "name": "stdout",
     "output_type": "stream",
     "text": [
      "0.7885287644037806\n"
     ]
    }
   ],
   "source": [
    "baseline = 18271/23171\n",
    "print(baseline)"
   ]
  },
  {
   "cell_type": "code",
   "execution_count": 114,
   "metadata": {},
   "outputs": [
    {
     "name": "stderr",
     "output_type": "stream",
     "text": [
      "/Users/wmchale/anaconda3/lib/python3.7/site-packages/sklearn/linear_model/logistic.py:433: FutureWarning: Default solver will be changed to 'lbfgs' in 0.22. Specify a solver to silence this warning.\n",
      "  FutureWarning)\n",
      "/Users/wmchale/anaconda3/lib/python3.7/site-packages/sklearn/linear_model/logistic.py:433: FutureWarning: Default solver will be changed to 'lbfgs' in 0.22. Specify a solver to silence this warning.\n",
      "  FutureWarning)\n",
      "/Users/wmchale/anaconda3/lib/python3.7/site-packages/sklearn/linear_model/logistic.py:433: FutureWarning: Default solver will be changed to 'lbfgs' in 0.22. Specify a solver to silence this warning.\n",
      "  FutureWarning)\n",
      "/Users/wmchale/anaconda3/lib/python3.7/site-packages/sklearn/linear_model/logistic.py:433: FutureWarning: Default solver will be changed to 'lbfgs' in 0.22. Specify a solver to silence this warning.\n",
      "  FutureWarning)\n",
      "/Users/wmchale/anaconda3/lib/python3.7/site-packages/sklearn/linear_model/logistic.py:433: FutureWarning: Default solver will be changed to 'lbfgs' in 0.22. Specify a solver to silence this warning.\n",
      "  FutureWarning)\n",
      "/Users/wmchale/anaconda3/lib/python3.7/site-packages/sklearn/linear_model/logistic.py:433: FutureWarning: Default solver will be changed to 'lbfgs' in 0.22. Specify a solver to silence this warning.\n",
      "  FutureWarning)\n",
      "/Users/wmchale/anaconda3/lib/python3.7/site-packages/sklearn/linear_model/logistic.py:433: FutureWarning: Default solver will be changed to 'lbfgs' in 0.22. Specify a solver to silence this warning.\n",
      "  FutureWarning)\n",
      "/Users/wmchale/anaconda3/lib/python3.7/site-packages/sklearn/linear_model/logistic.py:433: FutureWarning: Default solver will be changed to 'lbfgs' in 0.22. Specify a solver to silence this warning.\n",
      "  FutureWarning)\n",
      "/Users/wmchale/anaconda3/lib/python3.7/site-packages/sklearn/linear_model/logistic.py:433: FutureWarning: Default solver will be changed to 'lbfgs' in 0.22. Specify a solver to silence this warning.\n",
      "  FutureWarning)\n",
      "/Users/wmchale/anaconda3/lib/python3.7/site-packages/sklearn/linear_model/logistic.py:433: FutureWarning: Default solver will be changed to 'lbfgs' in 0.22. Specify a solver to silence this warning.\n",
      "  FutureWarning)\n"
     ]
    },
    {
     "data": {
      "text/plain": [
       "0.829727523811606"
      ]
     },
     "execution_count": 114,
     "metadata": {},
     "output_type": "execute_result"
    }
   ],
   "source": [
    "np.mean(cross_val_score(logreg, X_train_log, y_train_log, cv=10))\n"
   ]
  },
  {
   "cell_type": "markdown",
   "metadata": {},
   "source": [
    "Using a logistic regression, the model is able to predict whether the play will result in a first down with ~83% accuracy vs baseline of 78.8%.  "
   ]
  },
  {
   "cell_type": "code",
   "execution_count": 115,
   "metadata": {},
   "outputs": [],
   "source": [
    "from sklearn.ensemble import RandomForestClassifier\n",
    "\n",
    "clf=RandomForestClassifier(n_estimators=100, max_features=10)\n",
    "\n",
    "clf.fit(X_train_log,y_train_log)\n",
    "\n",
    "y_pred_rf=clf.predict(X_test_log)\n"
   ]
  },
  {
   "cell_type": "code",
   "execution_count": 116,
   "metadata": {},
   "outputs": [
    {
     "name": "stdout",
     "output_type": "stream",
     "text": [
      "Accuracy: 0.82168133954773\n"
     ]
    }
   ],
   "source": [
    "print(\"Accuracy:\",metrics.accuracy_score(y_test_log, y_pred_rf))\n"
   ]
  },
  {
   "cell_type": "code",
   "execution_count": 117,
   "metadata": {},
   "outputs": [
    {
     "data": {
      "text/plain": [
       "0.83007225133873"
      ]
     },
     "execution_count": 117,
     "metadata": {},
     "output_type": "execute_result"
    }
   ],
   "source": [
    "np.mean(cross_val_score(clf, X_train_log, y_train_log, cv=10))\n"
   ]
  },
  {
   "cell_type": "markdown",
   "metadata": {},
   "source": [
    "Using a random forest, the model generates slightly better accuracy versus logistic regression and about 5% better than the baseline. "
   ]
  },
  {
   "cell_type": "code",
   "execution_count": 118,
   "metadata": {},
   "outputs": [],
   "source": [
    "feature_imp = pd.Series(clf.feature_importances_,index=nfl_model[features].columns).sort_values(ascending=False)\n"
   ]
  },
  {
   "cell_type": "code",
   "execution_count": 119,
   "metadata": {},
   "outputs": [
    {
     "name": "stderr",
     "output_type": "stream",
     "text": [
      "No handles with labels found to put in legend.\n"
     ]
    },
    {
     "data": {
      "image/png": "[encoded data removed]",
      "text/plain": [
       "<Figure size 432x288 with 1 Axes>"
      ]
     },
     "metadata": {
      "needs_background": "light"
     },
     "output_type": "display_data"
    }
   ],
   "source": [
    "feature_imp.head(10)\n",
    "\n",
    "# Creating a bar plot\n",
    "sns.barplot(x=feature_imp.head(10), y=feature_imp.head(10).index)\n",
    "# Add labels to your graph\n",
    "plt.xlabel('Feature Importance Score')\n",
    "plt.ylabel('Features')\n",
    "plt.title(\"Visualizing Important Features\")\n",
    "plt.legend()\n",
    "plt.show()"
   ]
  },
  {
   "cell_type": "markdown",
   "metadata": {},
   "source": [
    "# Building a 3rd down-only model"
   ]
  },
  {
   "cell_type": "code",
   "execution_count": 120,
   "metadata": {},
   "outputs": [],
   "source": [
    "third_down = nfl_model[nfl_model.Down_3 == 1]"
   ]
  },
  {
   "cell_type": "code",
   "execution_count": 121,
   "metadata": {},
   "outputs": [
    {
     "data": {
      "text/plain": [
       "(1814, 46)"
      ]
     },
     "execution_count": 121,
     "metadata": {},
     "output_type": "execute_result"
    }
   ],
   "source": [
    "third_down.shape\n"
   ]
  },
  {
   "cell_type": "code",
   "execution_count": 122,
   "metadata": {},
   "outputs": [],
   "source": [
    "X_3 = third_down[features]\n",
    "\n",
    "y_3 = third_down['first_down']\n",
    "\n"
   ]
  },
  {
   "cell_type": "code",
   "execution_count": 143,
   "metadata": {},
   "outputs": [],
   "source": [
    "X_train_3, X_test_3, y_train_3, y_test_3 = train_test_split(X_3, y_3, random_state = 99)"
   ]
  },
  {
   "cell_type": "code",
   "execution_count": 144,
   "metadata": {},
   "outputs": [],
   "source": [
    "clf3=RandomForestClassifier(n_estimators=100, max_features=10)\n",
    "\n",
    "clf3.fit(X_train_3,y_train_3)\n",
    "\n",
    "y_pred_rf_3=clf.predict(X_test_3)\n",
    "\n"
   ]
  },
  {
   "cell_type": "code",
   "execution_count": 239,
   "metadata": {},
   "outputs": [
    {
     "name": "stdout",
     "output_type": "stream",
     "text": [
      "Accuracy: 0.9118942731277533\n"
     ]
    }
   ],
   "source": [
    "third_down_accuracy = metrics.accuracy_score(y_test_3, y_pred_rf_3)\n",
    "print(\"Accuracy:\",metrics.accuracy_score(y_test_3, y_pred_rf_3))\n",
    "\n"
   ]
  },
  {
   "cell_type": "code",
   "execution_count": 138,
   "metadata": {},
   "outputs": [
    {
     "data": {
      "text/plain": [
       "0    928\n",
       "1    886\n",
       "Name: first_down, dtype: int64"
      ]
     },
     "execution_count": 138,
     "metadata": {},
     "output_type": "execute_result"
    }
   ],
   "source": [
    "third_down.first_down.value_counts()\n"
   ]
  },
  {
   "cell_type": "code",
   "execution_count": 139,
   "metadata": {},
   "outputs": [
    {
     "data": {
      "text/plain": [
       "0.5115766262403528"
      ]
     },
     "execution_count": 139,
     "metadata": {},
     "output_type": "execute_result"
    }
   ],
   "source": [
    "#Baseline equals 928/1814\n",
    "baseline = 928/1814"
   ]
  },
  {
   "cell_type": "markdown",
   "metadata": {},
   "source": [
    "Using a random forest model results in an accuracy rate of 91%, significantly outperforming the baseline of 51%"
   ]
  },
  {
   "cell_type": "code",
   "execution_count": 148,
   "metadata": {},
   "outputs": [],
   "source": [
    "feature_imp_3 = pd.Series(clf3.feature_importances_,index=nfl_model[features].columns).sort_values(ascending=False)\n"
   ]
  },
  {
   "cell_type": "code",
   "execution_count": 151,
   "metadata": {},
   "outputs": [
    {
     "name": "stderr",
     "output_type": "stream",
     "text": [
      "No handles with labels found to put in legend.\n"
     ]
    },
    {
     "data": {
      "image/png": "[encoded data removed]",
      "text/plain": [
       "<Figure size 432x288 with 1 Axes>"
      ]
     },
     "metadata": {
      "needs_background": "light"
     },
     "output_type": "display_data"
    }
   ],
   "source": [
    "feature_imp_3.head(10)\n",
    "\n",
    "# Creating a bar plot\n",
    "sns.barplot(x=feature_imp_3.head(10), y=feature_imp_3.head(10).index)\n",
    "# Add labels to your graph\n",
    "plt.xlabel('Feature Importance Score')\n",
    "plt.ylabel('Features')\n",
    "plt.title(\"Visualizing Important Features\")\n",
    "plt.legend()\n",
    "plt.show()"
   ]
  },
  {
   "cell_type": "code",
   "execution_count": 203,
   "metadata": {},
   "outputs": [],
   "source": [
    "#Running a loop through the predict prob method to see how different values of distance to go impact predictions\n",
    "first_down_prob = []\n",
    "for i in range(1,20):\n",
    "    p = clf3.predict_proba([[4.025, 2.62, 0.43, i, 7, 217, 2.2, \n",
    "                         0,0,0,0,0,0,0,0,0,0,0,0,0,0,0,0,0,0,0,0,0,0,0,0,0,\n",
    "                         0,0,0,0,0,0,0,0,0,0,0,0]])\n",
    "    first_down_prob.append(p)\n",
    "    first_down_prob.append(i)\n",
    "    \n",
    "    "
   ]
  },
  {
   "cell_type": "code",
   "execution_count": 215,
   "metadata": {},
   "outputs": [
    {
     "data": {
      "text/plain": [
       "[array([[0.19, 0.81]]),\n",
       " 1,\n",
       " array([[0.35, 0.65]]),\n",
       " 2,\n",
       " array([[0.44, 0.56]]),\n",
       " 3,\n",
       " array([[0.52, 0.48]]),\n",
       " 4,\n",
       " array([[0.64, 0.36]]),\n",
       " 5,\n",
       " array([[0.92, 0.08]]),\n",
       " 6,\n",
       " array([[0.94, 0.06]]),\n",
       " 7,\n",
       " array([[0.94, 0.06]]),\n",
       " 8,\n",
       " array([[0.94, 0.06]]),\n",
       " 9,\n",
       " array([[0.95, 0.05]]),\n",
       " 10]"
      ]
     },
     "execution_count": 215,
     "metadata": {},
     "output_type": "execute_result"
    }
   ],
   "source": [
    "first_down_prob[0:20]"
   ]
  },
  {
   "cell_type": "markdown",
   "metadata": {},
   "source": [
    "The probability of running for a first down on 3rd down drops dramatically once the distance moves past 4-5 yards. "
   ]
  },
  {
   "cell_type": "code",
   "execution_count": 185,
   "metadata": {},
   "outputs": [
    {
     "name": "stderr",
     "output_type": "stream",
     "text": [
      "/Users/wmchale/anaconda3/lib/python3.7/site-packages/ipykernel_launcher.py:1: SettingWithCopyWarning: \n",
      "A value is trying to be set on a copy of a slice from a DataFrame.\n",
      "Try using .loc[row_indexer,col_indexer] = value instead\n",
      "\n",
      "See the caveats in the documentation: http://pandas.pydata.org/pandas-docs/stable/indexing.html#indexing-view-versus-copy\n",
      "  \"\"\"Entry point for launching an IPython kernel.\n"
     ]
    }
   ],
   "source": [
    "third_down['first_down_pred_prob'] = clf3.predict_proba(X_3)[:, 1]"
   ]
  },
  {
   "cell_type": "code",
   "execution_count": 187,
   "metadata": {},
   "outputs": [
    {
     "data": {
      "text/html": [
       "<div>\n",
       "<style scoped>\n",
       "    .dataframe tbody tr th:only-of-type {\n",
       "        vertical-align: middle;\n",
       "    }\n",
       "\n",
       "    .dataframe tbody tr th {\n",
       "        vertical-align: top;\n",
       "    }\n",
       "\n",
       "    .dataframe thead th {\n",
       "        text-align: right;\n",
       "    }\n",
       "</style>\n",
       "<table border=\"1\" class=\"dataframe\">\n",
       "  <thead>\n",
       "    <tr style=\"text-align: right;\">\n",
       "      <th></th>\n",
       "      <th>Yards</th>\n",
       "      <th>S</th>\n",
       "      <th>A</th>\n",
       "      <th>Dis</th>\n",
       "      <th>Distance</th>\n",
       "      <th>DefendersInTheBox</th>\n",
       "      <th>PlayerWeight</th>\n",
       "      <th>first_down</th>\n",
       "      <th>score_diff</th>\n",
       "      <th>OP_01</th>\n",
       "      <th>...</th>\n",
       "      <th>Down_1</th>\n",
       "      <th>Down_2</th>\n",
       "      <th>Down_3</th>\n",
       "      <th>Down_4</th>\n",
       "      <th>Quarter_1</th>\n",
       "      <th>Quarter_2</th>\n",
       "      <th>Quarter_3</th>\n",
       "      <th>Quarter_4</th>\n",
       "      <th>Quarter_5</th>\n",
       "      <th>first_down_pred_prob</th>\n",
       "    </tr>\n",
       "  </thead>\n",
       "  <tbody>\n",
       "    <tr>\n",
       "      <th>18</th>\n",
       "      <td>8</td>\n",
       "      <td>3.63</td>\n",
       "      <td>3.35</td>\n",
       "      <td>0.38</td>\n",
       "      <td>2</td>\n",
       "      <td>6.0</td>\n",
       "      <td>205</td>\n",
       "      <td>1</td>\n",
       "      <td>0</td>\n",
       "      <td>0</td>\n",
       "      <td>...</td>\n",
       "      <td>0</td>\n",
       "      <td>0</td>\n",
       "      <td>1</td>\n",
       "      <td>0</td>\n",
       "      <td>1</td>\n",
       "      <td>0</td>\n",
       "      <td>0</td>\n",
       "      <td>0</td>\n",
       "      <td>0</td>\n",
       "      <td>0.85</td>\n",
       "    </tr>\n",
       "    <tr>\n",
       "      <th>128</th>\n",
       "      <td>10</td>\n",
       "      <td>3.32</td>\n",
       "      <td>2.76</td>\n",
       "      <td>0.44</td>\n",
       "      <td>7</td>\n",
       "      <td>5.0</td>\n",
       "      <td>205</td>\n",
       "      <td>1</td>\n",
       "      <td>7</td>\n",
       "      <td>0</td>\n",
       "      <td>...</td>\n",
       "      <td>0</td>\n",
       "      <td>0</td>\n",
       "      <td>1</td>\n",
       "      <td>0</td>\n",
       "      <td>1</td>\n",
       "      <td>0</td>\n",
       "      <td>0</td>\n",
       "      <td>0</td>\n",
       "      <td>0</td>\n",
       "      <td>0.76</td>\n",
       "    </tr>\n",
       "    <tr>\n",
       "      <th>326</th>\n",
       "      <td>0</td>\n",
       "      <td>2.39</td>\n",
       "      <td>1.68</td>\n",
       "      <td>0.31</td>\n",
       "      <td>1</td>\n",
       "      <td>7.0</td>\n",
       "      <td>205</td>\n",
       "      <td>0</td>\n",
       "      <td>0</td>\n",
       "      <td>0</td>\n",
       "      <td>...</td>\n",
       "      <td>0</td>\n",
       "      <td>0</td>\n",
       "      <td>1</td>\n",
       "      <td>0</td>\n",
       "      <td>1</td>\n",
       "      <td>0</td>\n",
       "      <td>0</td>\n",
       "      <td>0</td>\n",
       "      <td>0</td>\n",
       "      <td>0.58</td>\n",
       "    </tr>\n",
       "    <tr>\n",
       "      <th>1132</th>\n",
       "      <td>3</td>\n",
       "      <td>3.33</td>\n",
       "      <td>2.25</td>\n",
       "      <td>0.35</td>\n",
       "      <td>1</td>\n",
       "      <td>8.0</td>\n",
       "      <td>216</td>\n",
       "      <td>1</td>\n",
       "      <td>15</td>\n",
       "      <td>0</td>\n",
       "      <td>...</td>\n",
       "      <td>0</td>\n",
       "      <td>0</td>\n",
       "      <td>1</td>\n",
       "      <td>0</td>\n",
       "      <td>0</td>\n",
       "      <td>0</td>\n",
       "      <td>0</td>\n",
       "      <td>1</td>\n",
       "      <td>0</td>\n",
       "      <td>0.71</td>\n",
       "    </tr>\n",
       "    <tr>\n",
       "      <th>1354</th>\n",
       "      <td>23</td>\n",
       "      <td>3.48</td>\n",
       "      <td>3.26</td>\n",
       "      <td>0.43</td>\n",
       "      <td>3</td>\n",
       "      <td>6.0</td>\n",
       "      <td>210</td>\n",
       "      <td>1</td>\n",
       "      <td>0</td>\n",
       "      <td>0</td>\n",
       "      <td>...</td>\n",
       "      <td>0</td>\n",
       "      <td>0</td>\n",
       "      <td>1</td>\n",
       "      <td>0</td>\n",
       "      <td>0</td>\n",
       "      <td>1</td>\n",
       "      <td>0</td>\n",
       "      <td>0</td>\n",
       "      <td>0</td>\n",
       "      <td>0.78</td>\n",
       "    </tr>\n",
       "  </tbody>\n",
       "</table>\n",
       "<p>5 rows × 47 columns</p>\n",
       "</div>"
      ],
      "text/plain": [
       "      Yards     S     A   Dis  Distance  DefendersInTheBox  PlayerWeight  \\\n",
       "18        8  3.63  3.35  0.38         2                6.0           205   \n",
       "128      10  3.32  2.76  0.44         7                5.0           205   \n",
       "326       0  2.39  1.68  0.31         1                7.0           205   \n",
       "1132      3  3.33  2.25  0.35         1                8.0           216   \n",
       "1354     23  3.48  3.26  0.43         3                6.0           210   \n",
       "\n",
       "      first_down  score_diff  OP_01          ...           Down_1  Down_2  \\\n",
       "18             1           0      0          ...                0       0   \n",
       "128            1           7      0          ...                0       0   \n",
       "326            0           0      0          ...                0       0   \n",
       "1132           1          15      0          ...                0       0   \n",
       "1354           1           0      0          ...                0       0   \n",
       "\n",
       "      Down_3  Down_4  Quarter_1  Quarter_2  Quarter_3  Quarter_4  Quarter_5  \\\n",
       "18         1       0          1          0          0          0          0   \n",
       "128        1       0          1          0          0          0          0   \n",
       "326        1       0          1          0          0          0          0   \n",
       "1132       1       0          0          0          0          1          0   \n",
       "1354       1       0          0          1          0          0          0   \n",
       "\n",
       "      first_down_pred_prob  \n",
       "18                    0.85  \n",
       "128                   0.76  \n",
       "326                   0.58  \n",
       "1132                  0.71  \n",
       "1354                  0.78  \n",
       "\n",
       "[5 rows x 47 columns]"
      ]
     },
     "execution_count": 187,
     "metadata": {},
     "output_type": "execute_result"
    }
   ],
   "source": [
    "third_down.head()\n"
   ]
  },
  {
   "cell_type": "code",
   "execution_count": 242,
   "metadata": {},
   "outputs": [
    {
     "data": {
      "text/plain": [
       "<matplotlib.axes._subplots.AxesSubplot at 0x1a295f85c0>"
      ]
     },
     "execution_count": 242,
     "metadata": {},
     "output_type": "execute_result"
    },
    {
     "data": {
      "image/png": "[encoded data removed]",
      "text/plain": [
       "<Figure size 432x288 with 1 Axes>"
      ]
     },
     "metadata": {
      "needs_background": "light"
     },
     "output_type": "display_data"
    }
   ],
   "source": [
    "third_down.plot(kind='scatter', x='Distance', y='first_down_pred_prob')"
   ]
  },
  {
   "cell_type": "markdown",
   "metadata": {},
   "source": [
    "The above graph shows that as distance increases, the model assigns lower and lower probability to the team achieving a first down."
   ]
  },
  {
   "cell_type": "code",
   "execution_count": 227,
   "metadata": {},
   "outputs": [],
   "source": [
    "probs = third_down.groupby('Distance').first_down_pred_prob.describe()"
   ]
  },
  {
   "cell_type": "code",
   "execution_count": 245,
   "metadata": {},
   "outputs": [
    {
     "data": {
      "text/plain": [
       "<matplotlib.axes._subplots.AxesSubplot at 0x1a28bfa4e0>"
      ]
     },
     "execution_count": 245,
     "metadata": {},
     "output_type": "execute_result"
    },
    {
     "data": {
      "image/png": "[encoded data removed]",
      "text/plain": [
       "<Figure size 432x288 with 1 Axes>"
      ]
     },
     "metadata": {
      "needs_background": "light"
     },
     "output_type": "display_data"
    }
   ],
   "source": [
    "probs.head(10).reset_index().plot(kind='bar', x='Distance', y='mean', title='Mean Probability of Predicted 1st Down by Distance')"
   ]
  },
  {
   "cell_type": "markdown",
   "metadata": {},
   "source": [
    "Probability of first down drops as the distance increases, with a particularly sharp drop between 5 and 6 yards"
   ]
  },
  {
   "cell_type": "code",
   "execution_count": 243,
   "metadata": {},
   "outputs": [],
   "source": [
    "actual = third_down.groupby('Distance').first_down.describe()"
   ]
  },
  {
   "cell_type": "code",
   "execution_count": 244,
   "metadata": {},
   "outputs": [
    {
     "data": {
      "text/plain": [
       "<matplotlib.axes._subplots.AxesSubplot at 0x1a28dfdc18>"
      ]
     },
     "execution_count": 244,
     "metadata": {},
     "output_type": "execute_result"
    },
    {
     "data": {
      "image/png": "[encoded data removed]",
      "text/plain": [
       "<Figure size 432x288 with 1 Axes>"
      ]
     },
     "metadata": {
      "needs_background": "light"
     },
     "output_type": "display_data"
    }
   ],
   "source": [
    "actual.head(10).reset_index().plot(kind='bar', x='Distance', y='mean', title='Mean Probability of Achieving 1st Down by Distance')"
   ]
  },
  {
   "cell_type": "markdown",
   "metadata": {},
   "source": [
    "Actual proportion of achieving a first down by distance - pretty similar to the model except the large drop in % comes between 4 and 5 versus 5 and 6 in the model. "
   ]
  },
  {
   "cell_type": "code",
   "execution_count": null,
   "metadata": {},
   "outputs": [],
   "source": []
  }
 ],
 "metadata": {
  "kernelspec": {
   "display_name": "Python 3",
   "language": "python",
   "name": "python3"
  },
  "language_info": {
   "codemirror_mode": {
    "name": "ipython",
    "version": 3
   },
   "file_extension": ".py",
   "mimetype": "text/x-python",
   "name": "python",
   "nbconvert_exporter": "python",
   "pygments_lexer": "ipython3",
   "version": "3.7.1"
  }
 },
 "nbformat": 4,
 "nbformat_minor": 2
}
